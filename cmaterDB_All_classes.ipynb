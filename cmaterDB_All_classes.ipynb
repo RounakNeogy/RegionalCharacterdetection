{
  "nbformat": 4,
  "nbformat_minor": 0,
  "metadata": {
    "colab": {
      "provenance": [],
      "gpuType": "T4",
      "authorship_tag": "ABX9TyOcOJ+WozroVFpBwsDmp6oo",
      "include_colab_link": true
    },
    "kernelspec": {
      "name": "python3",
      "display_name": "Python 3"
    },
    "language_info": {
      "name": "python"
    },
    "gpuClass": "standard"
  },
  "cells": [
    {
      "cell_type": "markdown",
      "metadata": {
        "id": "view-in-github",
        "colab_type": "text"
      },
      "source": [
        "<a href=\"https://colab.research.google.com/github/RounakNeogy/RegionalCharacterdetection/blob/main/cmaterDB_All_classes.ipynb\" target=\"_parent\"><img src=\"https://colab.research.google.com/assets/colab-badge.svg\" alt=\"Open In Colab\"/></a>"
      ]
    },
    {
      "cell_type": "code",
      "execution_count": null,
      "metadata": {
        "colab": {
          "base_uri": "https://localhost:8080/"
        },
        "id": "nBS-kTDMvi3W",
        "outputId": "625004d4-0a7f-4e06-e7a5-8abac3b1e04c"
      },
      "outputs": [
        {
          "output_type": "stream",
          "name": "stdout",
          "text": [
            "Mounted at /content/drive\n"
          ]
        }
      ],
      "source": [
        "from google.colab import drive\n",
        "drive.mount('/content/drive')"
      ]
    },
    {
      "cell_type": "code",
      "source": [
        "!unzip drive/MyDrive/cmaterDB.zip> /dev/null"
      ],
      "metadata": {
        "id": "iF-4TMxQwIQS"
      },
      "execution_count": null,
      "outputs": []
    },
    {
      "cell_type": "code",
      "source": [
        "pip install tensorflow-addons"
      ],
      "metadata": {
        "colab": {
          "base_uri": "https://localhost:8080/"
        },
        "id": "BUgz1e3QwIhE",
        "outputId": "da849854-1a1d-436b-a12e-7af1bf986389"
      },
      "execution_count": null,
      "outputs": [
        {
          "output_type": "stream",
          "name": "stdout",
          "text": [
            "Looking in indexes: https://pypi.org/simple, https://us-python.pkg.dev/colab-wheels/public/simple/\n",
            "Requirement already satisfied: tensorflow-addons in /usr/local/lib/python3.10/dist-packages (0.20.0)\n",
            "Requirement already satisfied: packaging in /usr/local/lib/python3.10/dist-packages (from tensorflow-addons) (23.1)\n",
            "Requirement already satisfied: typeguard<3.0.0,>=2.7 in /usr/local/lib/python3.10/dist-packages (from tensorflow-addons) (2.13.3)\n"
          ]
        }
      ]
    },
    {
      "cell_type": "code",
      "source": [
        "!pip install tensorflow-addons --upgrade"
      ],
      "metadata": {
        "colab": {
          "base_uri": "https://localhost:8080/"
        },
        "id": "mFiRMnhawJBR",
        "outputId": "e9188d8a-f45c-49f1-eeea-6404aa3331d0"
      },
      "execution_count": null,
      "outputs": [
        {
          "output_type": "stream",
          "name": "stdout",
          "text": [
            "Looking in indexes: https://pypi.org/simple, https://us-python.pkg.dev/colab-wheels/public/simple/\n",
            "Requirement already satisfied: tensorflow-addons in /usr/local/lib/python3.10/dist-packages (0.20.0)\n",
            "Requirement already satisfied: packaging in /usr/local/lib/python3.10/dist-packages (from tensorflow-addons) (23.1)\n",
            "Requirement already satisfied: typeguard<3.0.0,>=2.7 in /usr/local/lib/python3.10/dist-packages (from tensorflow-addons) (2.13.3)\n"
          ]
        }
      ]
    },
    {
      "cell_type": "code",
      "source": [
        "from keras.models import Sequential\n",
        "from keras.layers import Conv2D, MaxPooling2D, Flatten, Dense, Dropout\n",
        "import tensorflow as tf\n",
        "from tensorflow.keras.callbacks import EarlyStopping\n",
        "from tensorflow.keras.optimizers import Adam\n",
        "from sklearn.pipeline import Pipeline\n",
        "from sklearn.svm import SVC\n",
        "from sklearn.decomposition import PCA\n",
        "import os\n",
        "import cv2\n",
        "from PIL import ImageFile,Image\n",
        "import numpy as np\n",
        "from tensorflow.keras.models import Sequential\n",
        "from tensorflow.keras.layers import Dense, BatchNormalization, Conv2D, MaxPooling2D, Reshape, LSTM\n",
        "from keras.callbacks import ReduceLROnPlateau\n",
        "from tensorflow.keras import regularizers"
      ],
      "metadata": {
        "id": "73jEblOdwJZ2"
      },
      "execution_count": null,
      "outputs": []
    },
    {
      "cell_type": "code",
      "source": [
        "train_folder = \"Dataset/Train\" \n",
        "test_folder = \"Dataset/Test\"\n",
        "dimensions = (64, 64)"
      ],
      "metadata": {
        "id": "ri7vJrd0wJyG"
      },
      "execution_count": null,
      "outputs": []
    },
    {
      "cell_type": "code",
      "source": [
        "train_folder = \"Dataset/main/train\" \n",
        "test_folder = \"Dataset/main/val\"\n",
        "dimensions = (28, 28)"
      ],
      "metadata": {
        "id": "OUSxQoiOwKLk"
      },
      "execution_count": null,
      "outputs": []
    },
    {
      "cell_type": "code",
      "source": [
        "def process_images(folder):\n",
        "    classes = [os.path.join(folder, d) for d in sorted(os.listdir(folder))]  # get list of all sub-folders in folder\n",
        "    img_cnt = 0\n",
        "    i = 0\n",
        "\n",
        "    for class_x in classes:\n",
        "        i += 1\n",
        "        if os.path.isdir(class_x):\n",
        "\n",
        "            # get paths to all the images in this folder\n",
        "            images = [os.path.join(class_x, i) for i in sorted(os.listdir(class_x)) if i != '.DS_Store' and i != 'Thumbs.db']\n",
        "            print(len(images))\n",
        "            for image in images:\n",
        "                if os.path.isdir(image):\n",
        "                    subfolder_images = [os.path.join(image, sub_image) for sub_image in sorted(os.listdir(image)) if sub_image != '.DS_Store' and sub_image != 'Thumbs.db']\n",
        "                    for sub_image in subfolder_images:\n",
        "                        img_cnt += 1\n",
        "                        process_image(sub_image, img_cnt)\n",
        "                else:\n",
        "                    if(image != \"Dataset/Test/172/bcc000060.db\"):\n",
        "                      img_cnt += 1\n",
        "                      process_image(image, img_cnt)\n",
        "\n",
        "    print(\"Finished processing images, images found = \")\n",
        "    print(img_cnt)\n",
        "\n",
        "\n",
        "def process_image(image_path, img_cnt):\n",
        "    if img_cnt % 1000 == 0:  # show progress\n",
        "        print(\"Processed %s images\" % str(img_cnt))\n",
        "\n",
        "    im = Image.open(image_path)\n",
        "    print(image_path)\n",
        "    im = im.resize(dimensions)  # resize image according to dimensions set\n",
        "\n",
        "    im = im.convert('L')\n",
        "\n",
        "    image_array = np.array(im)\n",
        "    otsu_threshold, image_result = cv2.threshold(image_array, 0, 255, cv2.THRESH_BINARY_INV + cv2.THRESH_OTSU)\n",
        "    im = Image.fromarray(image_result)\n",
        "\n",
        "    im.save(image_path)\n",
        "\n",
        "process_images(train_folder)\n",
        "process_images(test_folder)\n"
      ],
      "metadata": {
        "id": "VhKi9N6JwKmv"
      },
      "execution_count": null,
      "outputs": []
    },
    {
      "cell_type": "code",
      "source": [],
      "metadata": {
        "id": "t_G58BF9np7d"
      },
      "execution_count": null,
      "outputs": []
    },
    {
      "cell_type": "code",
      "source": [
        "#For printing images\n",
        "def process_images(folder):\n",
        "    classes = [os.path.join(folder, d) for d in sorted(os.listdir(folder))]  # get list of all sub-folders in folder\n",
        "    img_cnt = 0\n",
        "    i = 0\n",
        "\n",
        "    for class_x in classes:\n",
        "        i += 1\n",
        "        if os.path.isdir(class_x):\n",
        "\n",
        "            # get paths to all the images in this folder\n",
        "            images = [os.path.join(class_x, i) for i in sorted(os.listdir(class_x)) if i != '.DS_Store' and i != 'Thumbs.db']\n",
        "            print(len(images))\n",
        "            for image in images:\n",
        "                if os.path.isdir(image):\n",
        "                    subfolder_images = [os.path.join(image, sub_image) for sub_image in sorted(os.listdir(image)) if sub_image != '.DS_Store' and sub_image != 'Thumbs.db']\n",
        "                    for sub_image in subfolder_images:\n",
        "                        img_cnt += 1\n",
        "                        process_image(sub_image, img_cnt)\n",
        "                else:\n",
        "                    if(image != \"Dataset/Test/172/bcc000060.db\"):\n",
        "                      img_cnt += 1\n",
        "                      process_image(image, img_cnt)\n",
        "\n",
        "    print(\"Finished processing images, images found = \")\n",
        "    print(img_cnt)\n",
        "\n",
        "\n",
        "def process_image(image_path, img_cnt):\n",
        "    im = Image.open(image_path)\n",
        "    print(image_path)\n",
        "    im.show()\n",
        "\n",
        "process_images(test_folder)"
      ],
      "metadata": {
        "id": "iLg-2QO1nXIB"
      },
      "execution_count": null,
      "outputs": []
    },
    {
      "cell_type": "code",
      "source": [
        "classifier = Sequential()\n",
        "\n",
        "classifier.add(Conv2D(filters = 32, kernel_size = (3, 3), strides = (1,1), padding = \"same\", input_shape = (28, 28, 1)))\n",
        "classifier.add(tf.keras.layers.LeakyReLU(alpha=0.1))\n",
        "classifier.add(BatchNormalization())\n",
        "classifier.add(MaxPooling2D(pool_size = (2, 2), padding = \"valid\"))\n",
        "classifier.add(Dropout(.2))\n",
        "\n",
        "classifier.add(Conv2D(filters = 64, kernel_size = (3, 3), strides = (1,1), padding = \"same\"))\n",
        "classifier.add(tf.keras.layers.LeakyReLU(alpha=0.1))\n",
        "classifier.add(BatchNormalization())\n",
        "classifier.add(MaxPooling2D(pool_size = (2, 2), padding = \"valid\"))\n",
        "classifier.add(Dropout(.2))\n",
        "\n",
        "classifier.add(Conv2D(filters = 128, kernel_size = (3, 3), strides = (1,1), padding = \"same\"))\n",
        "classifier.add(tf.keras.layers.LeakyReLU(alpha=0.1))\n",
        "classifier.add(BatchNormalization())\n",
        "classifier.add(MaxPooling2D(pool_size = (2, 2), padding = \"valid\"))\n",
        "classifier.add(Dropout(.2))\n",
        "\n",
        "classifier.add(Reshape((3,3*128),input_shape=(3,3,128)))\n",
        "classifier.add(LSTM(128, return_sequences=True))\n",
        "\n",
        "classifier.add(Flatten())\n",
        "\n",
        "classifier.add(Dense(units = 128))\n",
        "classifier.add(tf.keras.layers.LeakyReLU(alpha=0.1))\n",
        "classifier.add(Dropout(.2))\n",
        "\n",
        "classifier.add(Dense(units = 64))\n",
        "classifier.add(tf.keras.layers.LeakyReLU(alpha=0.1))\n",
        "classifier.add(Dropout(.2))\n",
        "\n",
        "classifier.add(Dense(units = 221, activation = 'softmax'))\n",
        "\n",
        "opt=tf.keras.optimizers.Adadelta(learning_rate=0.1, rho=0.95)            \n",
        "classifier.compile(optimizer = opt, loss = 'categorical_crossentropy', metrics = ['accuracy'])"
      ],
      "metadata": {
        "id": "cRWJ6JYfwLGQ"
      },
      "execution_count": null,
      "outputs": []
    },
    {
      "cell_type": "code",
      "source": [
        "classifier.summary()"
      ],
      "metadata": {
        "colab": {
          "base_uri": "https://localhost:8080/"
        },
        "id": "sRLH7MNTxA9X",
        "outputId": "ca6bf676-1bd7-4d34-cec7-1c7e3351e638"
      },
      "execution_count": null,
      "outputs": [
        {
          "output_type": "stream",
          "name": "stdout",
          "text": [
            "Model: \"sequential\"\n",
            "_________________________________________________________________\n",
            " Layer (type)                Output Shape              Param #   \n",
            "=================================================================\n",
            " conv2d (Conv2D)             (None, 28, 28, 32)        320       \n",
            "                                                                 \n",
            " leaky_re_lu (LeakyReLU)     (None, 28, 28, 32)        0         \n",
            "                                                                 \n",
            " batch_normalization (BatchN  (None, 28, 28, 32)       128       \n",
            " ormalization)                                                   \n",
            "                                                                 \n",
            " max_pooling2d (MaxPooling2D  (None, 14, 14, 32)       0         \n",
            " )                                                               \n",
            "                                                                 \n",
            " dropout (Dropout)           (None, 14, 14, 32)        0         \n",
            "                                                                 \n",
            " conv2d_1 (Conv2D)           (None, 14, 14, 64)        18496     \n",
            "                                                                 \n",
            " leaky_re_lu_1 (LeakyReLU)   (None, 14, 14, 64)        0         \n",
            "                                                                 \n",
            " batch_normalization_1 (Batc  (None, 14, 14, 64)       256       \n",
            " hNormalization)                                                 \n",
            "                                                                 \n",
            " max_pooling2d_1 (MaxPooling  (None, 7, 7, 64)         0         \n",
            " 2D)                                                             \n",
            "                                                                 \n",
            " dropout_1 (Dropout)         (None, 7, 7, 64)          0         \n",
            "                                                                 \n",
            " conv2d_2 (Conv2D)           (None, 7, 7, 128)         73856     \n",
            "                                                                 \n",
            " leaky_re_lu_2 (LeakyReLU)   (None, 7, 7, 128)         0         \n",
            "                                                                 \n",
            " batch_normalization_2 (Batc  (None, 7, 7, 128)        512       \n",
            " hNormalization)                                                 \n",
            "                                                                 \n",
            " max_pooling2d_2 (MaxPooling  (None, 3, 3, 128)        0         \n",
            " 2D)                                                             \n",
            "                                                                 \n",
            " dropout_2 (Dropout)         (None, 3, 3, 128)         0         \n",
            "                                                                 \n",
            " reshape (Reshape)           (None, 3, 384)            0         \n",
            "                                                                 \n",
            " lstm (LSTM)                 (None, 3, 128)            262656    \n",
            "                                                                 \n",
            " flatten (Flatten)           (None, 384)               0         \n",
            "                                                                 \n",
            " dense (Dense)               (None, 128)               49280     \n",
            "                                                                 \n",
            " leaky_re_lu_3 (LeakyReLU)   (None, 128)               0         \n",
            "                                                                 \n",
            " dropout_3 (Dropout)         (None, 128)               0         \n",
            "                                                                 \n",
            " dense_1 (Dense)             (None, 64)                8256      \n",
            "                                                                 \n",
            " leaky_re_lu_4 (LeakyReLU)   (None, 64)                0         \n",
            "                                                                 \n",
            " dropout_4 (Dropout)         (None, 64)                0         \n",
            "                                                                 \n",
            " dense_2 (Dense)             (None, 221)               14365     \n",
            "                                                                 \n",
            "=================================================================\n",
            "Total params: 428,125\n",
            "Trainable params: 427,677\n",
            "Non-trainable params: 448\n",
            "_________________________________________________________________\n"
          ]
        }
      ]
    },
    {
      "cell_type": "code",
      "source": [
        "pip install split-folders"
      ],
      "metadata": {
        "colab": {
          "base_uri": "https://localhost:8080/"
        },
        "id": "TqPMg1lGKiYX",
        "outputId": "d0bd8995-3405-4ca1-a134-e5ff849c169b"
      },
      "execution_count": null,
      "outputs": [
        {
          "output_type": "stream",
          "name": "stdout",
          "text": [
            "Looking in indexes: https://pypi.org/simple, https://us-python.pkg.dev/colab-wheels/public/simple/\n",
            "Requirement already satisfied: split-folders in /usr/local/lib/python3.10/dist-packages (0.5.1)\n"
          ]
        }
      ]
    },
    {
      "cell_type": "code",
      "source": [
        "import splitfolders"
      ],
      "metadata": {
        "id": "acx9ca4vKiPV"
      },
      "execution_count": null,
      "outputs": []
    },
    {
      "cell_type": "code",
      "source": [
        "splitfolders.ratio(\"Dataset/Train\", output=\"Dataset/Main\",\n",
        "    seed=1337, ratio=(.9,.1), group_prefix=None, move=False)"
      ],
      "metadata": {
        "colab": {
          "base_uri": "https://localhost:8080/"
        },
        "id": "LjRt_ph2KiEp",
        "outputId": "5145b6ae-fae4-4d8c-9fd6-fd51f4e8b1fc"
      },
      "execution_count": null,
      "outputs": [
        {
          "output_type": "stream",
          "name": "stderr",
          "text": [
            "Copying files: 39346 files [00:07, 5260.95 files/s]\n"
          ]
        }
      ]
    },
    {
      "cell_type": "code",
      "source": [],
      "metadata": {
        "id": "SBE_9K-ZKh0S"
      },
      "execution_count": null,
      "outputs": []
    },
    {
      "cell_type": "code",
      "source": [
        "train_folder = \"/content/Dataset/Main/train\"\n",
        "val_folder = \"/content/Dataset/Main/val\"\n",
        "test_folder = \"/content/Dataset/Test\""
      ],
      "metadata": {
        "id": "F-3kN93QxBgN"
      },
      "execution_count": null,
      "outputs": []
    },
    {
      "cell_type": "code",
      "source": [
        "from keras.preprocessing.image import ImageDataGenerator\n",
        "from PIL import Image"
      ],
      "metadata": {
        "id": "iRjubCeaxB_L"
      },
      "execution_count": null,
      "outputs": []
    },
    {
      "cell_type": "code",
      "source": [
        "Image.LOAD_TRUNCATED_IMAGES = True\n",
        "\n",
        "\n",
        "train_datagen = ImageDataGenerator(shear_range = .2, rotation_range = 25)\n",
        "val_datagen = ImageDataGenerator()\n",
        "test_datagen = ImageDataGenerator()\n",
        "\n",
        "train_set = train_datagen.flow_from_directory(train_folder, target_size = (28, 28), \n",
        "                                                 batch_size = 32, class_mode = 'categorical',color_mode=\"grayscale\")\n",
        "val_set = val_datagen.flow_from_directory(val_folder, target_size = (28, 28), \n",
        "                                                 batch_size = 32, class_mode = 'categorical',color_mode=\"grayscale\")\n",
        "test_set = test_datagen.flow_from_directory(test_folder, target_size = (28, 28), \n",
        "                                                 batch_size = 32, class_mode = 'categorical',color_mode=\"grayscale\")"
      ],
      "metadata": {
        "colab": {
          "base_uri": "https://localhost:8080/"
        },
        "id": "aCprosxUxCPv",
        "outputId": "cecc8abf-f524-4e5c-ea66-c28923bcaccf"
      },
      "execution_count": null,
      "outputs": [
        {
          "output_type": "stream",
          "name": "stdout",
          "text": [
            "Found 35210 images belonging to 221 classes.\n",
            "Found 4013 images belonging to 221 classes.\n",
            "Found 11254 images belonging to 221 classes.\n"
          ]
        }
      ]
    },
    {
      "cell_type": "code",
      "source": [
        "history1=classifier.fit(train_set, steps_per_epoch = len(train_set), epochs = 50,\n",
        "                        validation_data = val_set, validation_steps = len(val_set))\n",
        "classifier.save_weights('train_weights1.h5')"
      ],
      "metadata": {
        "colab": {
          "base_uri": "https://localhost:8080/"
        },
        "id": "VOhPgVx0xCvF",
        "outputId": "3e221b62-8c9d-471d-f03b-ea7ff1c4ecb6"
      },
      "execution_count": null,
      "outputs": [
        {
          "output_type": "stream",
          "name": "stdout",
          "text": [
            "Epoch 1/50\n",
            "1101/1101 [==============================] - 40s 32ms/step - loss: 5.3260 - accuracy: 0.0074 - val_loss: 5.1808 - val_accuracy: 0.0177\n",
            "Epoch 2/50\n",
            "1101/1101 [==============================] - 32s 29ms/step - loss: 5.0641 - accuracy: 0.0255 - val_loss: 4.7403 - val_accuracy: 0.0668\n",
            "Epoch 3/50\n",
            "1101/1101 [==============================] - 31s 28ms/step - loss: 4.6364 - accuracy: 0.0618 - val_loss: 4.1607 - val_accuracy: 0.1368\n",
            "Epoch 4/50\n",
            "1101/1101 [==============================] - 31s 28ms/step - loss: 4.1644 - accuracy: 0.1011 - val_loss: 3.5233 - val_accuracy: 0.2153\n",
            "Epoch 5/50\n",
            "1101/1101 [==============================] - 33s 30ms/step - loss: 3.7333 - accuracy: 0.1481 - val_loss: 2.9786 - val_accuracy: 0.3132\n",
            "Epoch 6/50\n",
            "1101/1101 [==============================] - 35s 32ms/step - loss: 3.3645 - accuracy: 0.1966 - val_loss: 2.5454 - val_accuracy: 0.4039\n",
            "Epoch 7/50\n",
            "1101/1101 [==============================] - 31s 28ms/step - loss: 3.0537 - accuracy: 0.2448 - val_loss: 2.1752 - val_accuracy: 0.4717\n",
            "Epoch 8/50\n",
            "1101/1101 [==============================] - 31s 28ms/step - loss: 2.7988 - accuracy: 0.2816 - val_loss: 1.8940 - val_accuracy: 0.5285\n",
            "Epoch 9/50\n",
            "1101/1101 [==============================] - 32s 29ms/step - loss: 2.5764 - accuracy: 0.3209 - val_loss: 1.6567 - val_accuracy: 0.5848\n",
            "Epoch 10/50\n",
            "1101/1101 [==============================] - 32s 29ms/step - loss: 2.3825 - accuracy: 0.3589 - val_loss: 1.4636 - val_accuracy: 0.6240\n",
            "Epoch 11/50\n",
            "1101/1101 [==============================] - 32s 29ms/step - loss: 2.2091 - accuracy: 0.3968 - val_loss: 1.3478 - val_accuracy: 0.6476\n",
            "Epoch 12/50\n",
            "1101/1101 [==============================] - 30s 28ms/step - loss: 2.0858 - accuracy: 0.4266 - val_loss: 1.2016 - val_accuracy: 0.6900\n",
            "Epoch 13/50\n",
            "1101/1101 [==============================] - 31s 28ms/step - loss: 1.9507 - accuracy: 0.4540 - val_loss: 1.1023 - val_accuracy: 0.7062\n",
            "Epoch 14/50\n",
            "1101/1101 [==============================] - 33s 30ms/step - loss: 1.8446 - accuracy: 0.4802 - val_loss: 1.0338 - val_accuracy: 0.7202\n",
            "Epoch 15/50\n",
            "1101/1101 [==============================] - 32s 29ms/step - loss: 1.7509 - accuracy: 0.5001 - val_loss: 0.9441 - val_accuracy: 0.7406\n",
            "Epoch 16/50\n",
            "1101/1101 [==============================] - 31s 29ms/step - loss: 1.6569 - accuracy: 0.5235 - val_loss: 0.8962 - val_accuracy: 0.7531\n",
            "Epoch 17/50\n",
            "1101/1101 [==============================] - 32s 29ms/step - loss: 1.5904 - accuracy: 0.5418 - val_loss: 0.8561 - val_accuracy: 0.7608\n",
            "Epoch 18/50\n",
            "1101/1101 [==============================] - 31s 28ms/step - loss: 1.5126 - accuracy: 0.5604 - val_loss: 0.8022 - val_accuracy: 0.7752\n",
            "Epoch 19/50\n",
            "1101/1101 [==============================] - 32s 29ms/step - loss: 1.4480 - accuracy: 0.5775 - val_loss: 0.7661 - val_accuracy: 0.7835\n",
            "Epoch 20/50\n",
            "1101/1101 [==============================] - 33s 30ms/step - loss: 1.4016 - accuracy: 0.5908 - val_loss: 0.7650 - val_accuracy: 0.7815\n",
            "Epoch 21/50\n",
            "1101/1101 [==============================] - 32s 29ms/step - loss: 1.3493 - accuracy: 0.6064 - val_loss: 0.6846 - val_accuracy: 0.8069\n",
            "Epoch 22/50\n",
            "1101/1101 [==============================] - 34s 31ms/step - loss: 1.2966 - accuracy: 0.6164 - val_loss: 0.6648 - val_accuracy: 0.8101\n",
            "Epoch 23/50\n",
            "1101/1101 [==============================] - 33s 30ms/step - loss: 1.2336 - accuracy: 0.6337 - val_loss: 0.6291 - val_accuracy: 0.8188\n",
            "Epoch 24/50\n",
            "1101/1101 [==============================] - 34s 31ms/step - loss: 1.2091 - accuracy: 0.6420 - val_loss: 0.5931 - val_accuracy: 0.8286\n",
            "Epoch 25/50\n",
            "1101/1101 [==============================] - 32s 29ms/step - loss: 1.1672 - accuracy: 0.6523 - val_loss: 0.5705 - val_accuracy: 0.8390\n",
            "Epoch 26/50\n",
            "1101/1101 [==============================] - 34s 31ms/step - loss: 1.1335 - accuracy: 0.6652 - val_loss: 0.5544 - val_accuracy: 0.8360\n",
            "Epoch 27/50\n",
            "1101/1101 [==============================] - 32s 29ms/step - loss: 1.1031 - accuracy: 0.6709 - val_loss: 0.5357 - val_accuracy: 0.8455\n",
            "Epoch 28/50\n",
            "1101/1101 [==============================] - 34s 31ms/step - loss: 1.0615 - accuracy: 0.6829 - val_loss: 0.5342 - val_accuracy: 0.8455\n",
            "Epoch 29/50\n",
            "1101/1101 [==============================] - 33s 30ms/step - loss: 1.0398 - accuracy: 0.6913 - val_loss: 0.5152 - val_accuracy: 0.8512\n",
            "Epoch 30/50\n",
            "1101/1101 [==============================] - 32s 29ms/step - loss: 1.0073 - accuracy: 0.6995 - val_loss: 0.4848 - val_accuracy: 0.8572\n",
            "Epoch 31/50\n",
            "1101/1101 [==============================] - 34s 31ms/step - loss: 0.9837 - accuracy: 0.7067 - val_loss: 0.4715 - val_accuracy: 0.8622\n",
            "Epoch 32/50\n",
            "1101/1101 [==============================] - 32s 29ms/step - loss: 0.9544 - accuracy: 0.7122 - val_loss: 0.4673 - val_accuracy: 0.8602\n",
            "Epoch 33/50\n",
            "1101/1101 [==============================] - 34s 31ms/step - loss: 0.9360 - accuracy: 0.7176 - val_loss: 0.4713 - val_accuracy: 0.8590\n",
            "Epoch 34/50\n",
            "1101/1101 [==============================] - 33s 30ms/step - loss: 0.9070 - accuracy: 0.7266 - val_loss: 0.4535 - val_accuracy: 0.8662\n",
            "Epoch 35/50\n",
            "1101/1101 [==============================] - 34s 31ms/step - loss: 0.8943 - accuracy: 0.7297 - val_loss: 0.4442 - val_accuracy: 0.8664\n",
            "Epoch 36/50\n",
            "1101/1101 [==============================] - 34s 31ms/step - loss: 0.8738 - accuracy: 0.7369 - val_loss: 0.4344 - val_accuracy: 0.8717\n",
            "Epoch 37/50\n",
            "1101/1101 [==============================] - 35s 32ms/step - loss: 0.8521 - accuracy: 0.7423 - val_loss: 0.4068 - val_accuracy: 0.8796\n",
            "Epoch 38/50\n",
            "1101/1101 [==============================] - 33s 30ms/step - loss: 0.8411 - accuracy: 0.7461 - val_loss: 0.4069 - val_accuracy: 0.8776\n",
            "Epoch 39/50\n",
            "1101/1101 [==============================] - 35s 32ms/step - loss: 0.8279 - accuracy: 0.7506 - val_loss: 0.3945 - val_accuracy: 0.8824\n",
            "Epoch 40/50\n",
            "1101/1101 [==============================] - 32s 29ms/step - loss: 0.8091 - accuracy: 0.7548 - val_loss: 0.3879 - val_accuracy: 0.8864\n",
            "Epoch 41/50\n",
            "1101/1101 [==============================] - 33s 30ms/step - loss: 0.7905 - accuracy: 0.7583 - val_loss: 0.3846 - val_accuracy: 0.8879\n",
            "Epoch 42/50\n",
            "1101/1101 [==============================] - 33s 30ms/step - loss: 0.7785 - accuracy: 0.7642 - val_loss: 0.3756 - val_accuracy: 0.8921\n",
            "Epoch 43/50\n",
            "1101/1101 [==============================] - 35s 32ms/step - loss: 0.7683 - accuracy: 0.7657 - val_loss: 0.3804 - val_accuracy: 0.8846\n",
            "Epoch 44/50\n",
            "1101/1101 [==============================] - 33s 30ms/step - loss: 0.7457 - accuracy: 0.7730 - val_loss: 0.3707 - val_accuracy: 0.8899\n",
            "Epoch 45/50\n",
            "1101/1101 [==============================] - 33s 30ms/step - loss: 0.7383 - accuracy: 0.7773 - val_loss: 0.3674 - val_accuracy: 0.8864\n",
            "Epoch 46/50\n",
            "1101/1101 [==============================] - 32s 29ms/step - loss: 0.7229 - accuracy: 0.7792 - val_loss: 0.3573 - val_accuracy: 0.8906\n",
            "Epoch 47/50\n",
            "1101/1101 [==============================] - 33s 30ms/step - loss: 0.7125 - accuracy: 0.7832 - val_loss: 0.3504 - val_accuracy: 0.8926\n",
            "Epoch 48/50\n",
            "1101/1101 [==============================] - 34s 31ms/step - loss: 0.7006 - accuracy: 0.7886 - val_loss: 0.3410 - val_accuracy: 0.8946\n",
            "Epoch 49/50\n",
            "1101/1101 [==============================] - 32s 29ms/step - loss: 0.6918 - accuracy: 0.7867 - val_loss: 0.3411 - val_accuracy: 0.9011\n",
            "Epoch 50/50\n",
            "1101/1101 [==============================] - 34s 31ms/step - loss: 0.6656 - accuracy: 0.7952 - val_loss: 0.3561 - val_accuracy: 0.8921\n"
          ]
        }
      ]
    },
    {
      "cell_type": "code",
      "source": [
        "classifier.evaluate(test_set)"
      ],
      "metadata": {
        "colab": {
          "base_uri": "https://localhost:8080/"
        },
        "id": "-a_3RrlRxDTi",
        "outputId": "9f03d9c2-9d12-4415-f575-420b6847e3db"
      },
      "execution_count": null,
      "outputs": [
        {
          "output_type": "stream",
          "name": "stdout",
          "text": [
            "352/352 [==============================] - 5s 15ms/step - loss: 2.3886 - accuracy: 0.7789\n"
          ]
        },
        {
          "output_type": "execute_result",
          "data": {
            "text/plain": [
              "[2.3886168003082275, 0.7789230346679688]"
            ]
          },
          "metadata": {},
          "execution_count": 25
        }
      ]
    },
    {
      "cell_type": "code",
      "source": [
        "from matplotlib import pyplot as plt\n",
        "plt.plot(history.history['accuracy'])\n",
        "plt.plot(history.history['val_accuracy'])\n",
        "plt.title('Training Accuracy vs Validation Accuracy')\n",
        "plt.ylabel('accuracy')\n",
        "plt.xlabel('epoch')\n",
        "plt.legend(['training', 'validation'], loc='lower right')\n",
        "plt.show()"
      ],
      "metadata": {
        "colab": {
          "base_uri": "https://localhost:8080/",
          "height": 472
        },
        "id": "UEpQxjyuxDsF",
        "outputId": "98c43e30-963d-46ed-defd-46ed4b1a683f"
      },
      "execution_count": null,
      "outputs": [
        {
          "output_type": "display_data",
          "data": {
            "text/plain": [
              "<Figure size 640x480 with 1 Axes>"
            ],
            "image/png": "[encoded data removed]"
          },
          "metadata": {}
        }
      ]
    },
    {
      "cell_type": "code",
      "source": [
        "plt.plot(history.history['loss'])\n",
        "plt.plot(history.history['val_loss'])\n",
        "plt.title('Training Loss vs Validation Loss')\n",
        "plt.ylabel('loss')\n",
        "plt.xlabel('epochs')\n",
        "plt.legend(['training', 'validation'], loc='upper right')\n",
        "plt.show()"
      ],
      "metadata": {
        "colab": {
          "base_uri": "https://localhost:8080/",
          "height": 472
        },
        "id": "DA7q9i7YxD9P",
        "outputId": "af1a2c23-e609-4fc3-c0fb-89b80ebd3628"
      },
      "execution_count": null,
      "outputs": [
        {
          "output_type": "display_data",
          "data": {
            "text/plain": [
              "<Figure size 640x480 with 1 Axes>"
            ],
            "image/png": "[encoded data removed]"
          },
          "metadata": {}
        }
      ]
    },
    {
      "cell_type": "code",
      "source": [
        "classifier.load_weights('train_weights1.h5')\n",
        "history2=classifier.fit(train_set, steps_per_epoch = len(train_set), epochs = 50,\n",
        "                        validation_data = val_set, validation_steps = len(val_set))\n",
        "classifier.save_weights('train_weights2.h5')"
      ],
      "metadata": {
        "colab": {
          "base_uri": "https://localhost:8080/"
        },
        "id": "YWlQ-acx7IkG",
        "outputId": "8aef8689-5d3f-431f-9e87-8b4fc2f63ff8"
      },
      "execution_count": null,
      "outputs": [
        {
          "output_type": "stream",
          "name": "stdout",
          "text": [
            "Epoch 1/50\n",
            "1101/1101 [==============================] - 33s 30ms/step - loss: 0.6697 - accuracy: 0.7954 - val_loss: 0.3220 - val_accuracy: 0.9016\n",
            "Epoch 2/50\n",
            "1101/1101 [==============================] - 32s 29ms/step - loss: 0.6567 - accuracy: 0.7976 - val_loss: 0.3252 - val_accuracy: 0.9018\n",
            "Epoch 3/50\n",
            "1101/1101 [==============================] - 31s 28ms/step - loss: 0.6420 - accuracy: 0.8035 - val_loss: 0.3215 - val_accuracy: 0.8996\n",
            "Epoch 4/50\n",
            "1101/1101 [==============================] - 30s 28ms/step - loss: 0.6341 - accuracy: 0.8043 - val_loss: 0.3240 - val_accuracy: 0.8996\n",
            "Epoch 5/50\n",
            "1101/1101 [==============================] - 31s 28ms/step - loss: 0.6266 - accuracy: 0.8091 - val_loss: 0.3209 - val_accuracy: 0.9018\n",
            "Epoch 6/50\n",
            "1101/1101 [==============================] - 32s 29ms/step - loss: 0.6267 - accuracy: 0.8062 - val_loss: 0.3117 - val_accuracy: 0.9056\n",
            "Epoch 7/50\n",
            " 483/1101 [============>.................] - ETA: 16s - loss: 0.6187 - accuracy: 0.8086"
          ]
        }
      ]
    },
    {
      "cell_type": "code",
      "source": [
        "classifier.evaluate(test_set)"
      ],
      "metadata": {
        "colab": {
          "base_uri": "https://localhost:8080/",
          "height": 165
        },
        "id": "LbBpK0Xb7I0X",
        "outputId": "d9c7cb20-05a6-4ec7-9db7-e9374e734a89"
      },
      "execution_count": null,
      "outputs": [
        {
          "output_type": "error",
          "ename": "NameError",
          "evalue": "ignored",
          "traceback": [
            "\u001b[0;31m---------------------------------------------------------------------------\u001b[0m",
            "\u001b[0;31mNameError\u001b[0m                                 Traceback (most recent call last)",
            "\u001b[0;32m<ipython-input-1-5abc4b98828d>\u001b[0m in \u001b[0;36m<cell line: 1>\u001b[0;34m()\u001b[0m\n\u001b[0;32m----> 1\u001b[0;31m \u001b[0mclassifier\u001b[0m\u001b[0;34m.\u001b[0m\u001b[0mevaluate\u001b[0m\u001b[0;34m(\u001b[0m\u001b[0mtest_set\u001b[0m\u001b[0;34m)\u001b[0m\u001b[0;34m\u001b[0m\u001b[0;34m\u001b[0m\u001b[0m\n\u001b[0m",
            "\u001b[0;31mNameError\u001b[0m: name 'classifier' is not defined"
          ]
        }
      ]
    },
    {
      "cell_type": "code",
      "source": [
        "classifier.load_weights('train_weights2.h5')\n",
        "history3=classifier.fit(train_set, steps_per_epoch = len(train_set), epochs = 50,\n",
        "                        validation_data = val_set, validation_steps = len(val_set))\n",
        "classifier.save_weights('train_weights3.h5')"
      ],
      "metadata": {
        "colab": {
          "base_uri": "https://localhost:8080/"
        },
        "id": "xgycVzVn7JCO",
        "outputId": "46c84e09-849d-46b8-ee20-df8f2df91656"
      },
      "execution_count": null,
      "outputs": [
        {
          "output_type": "stream",
          "name": "stdout",
          "text": [
            "Epoch 1/50\n",
            "1101/1101 [==============================] - 30s 27ms/step - loss: 0.3159 - accuracy: 0.8976 - val_loss: 0.1913 - val_accuracy: 0.9417\n",
            "Epoch 2/50\n",
            "1101/1101 [==============================] - 30s 27ms/step - loss: 0.3145 - accuracy: 0.8977 - val_loss: 0.1973 - val_accuracy: 0.9404\n",
            "Epoch 3/50\n",
            "1101/1101 [==============================] - 30s 28ms/step - loss: 0.3055 - accuracy: 0.9017 - val_loss: 0.1928 - val_accuracy: 0.9385\n",
            "Epoch 4/50\n",
            "1101/1101 [==============================] - 30s 28ms/step - loss: 0.3127 - accuracy: 0.8994 - val_loss: 0.1951 - val_accuracy: 0.9389\n",
            "Epoch 5/50\n",
            "1101/1101 [==============================] - 30s 27ms/step - loss: 0.3042 - accuracy: 0.9018 - val_loss: 0.1897 - val_accuracy: 0.9407\n",
            "Epoch 6/50\n",
            "1101/1101 [==============================] - 30s 27ms/step - loss: 0.3085 - accuracy: 0.9000 - val_loss: 0.1893 - val_accuracy: 0.9387\n",
            "Epoch 7/50\n",
            "1101/1101 [==============================] - 31s 28ms/step - loss: 0.3138 - accuracy: 0.8965 - val_loss: 0.1859 - val_accuracy: 0.9424\n",
            "Epoch 8/50\n",
            "1101/1101 [==============================] - 29s 26ms/step - loss: 0.3108 - accuracy: 0.9000 - val_loss: 0.1880 - val_accuracy: 0.9424\n",
            "Epoch 9/50\n",
            "1101/1101 [==============================] - 29s 26ms/step - loss: 0.3120 - accuracy: 0.8992 - val_loss: 0.1913 - val_accuracy: 0.9412\n",
            "Epoch 10/50\n",
            "1101/1101 [==============================] - 29s 27ms/step - loss: 0.3001 - accuracy: 0.9023 - val_loss: 0.1893 - val_accuracy: 0.9419\n",
            "Epoch 11/50\n",
            "1101/1101 [==============================] - 30s 27ms/step - loss: 0.3019 - accuracy: 0.9037 - val_loss: 0.1843 - val_accuracy: 0.9454\n",
            "Epoch 12/50\n",
            "1101/1101 [==============================] - 30s 27ms/step - loss: 0.2961 - accuracy: 0.9043 - val_loss: 0.1833 - val_accuracy: 0.9422\n",
            "Epoch 13/50\n",
            "1101/1101 [==============================] - 30s 27ms/step - loss: 0.3012 - accuracy: 0.9028 - val_loss: 0.1842 - val_accuracy: 0.9442\n",
            "Epoch 14/50\n",
            "1101/1101 [==============================] - 30s 27ms/step - loss: 0.2990 - accuracy: 0.9042 - val_loss: 0.1862 - val_accuracy: 0.9437\n",
            "Epoch 15/50\n",
            "1101/1101 [==============================] - 30s 28ms/step - loss: 0.2972 - accuracy: 0.9044 - val_loss: 0.1830 - val_accuracy: 0.9424\n",
            "Epoch 16/50\n",
            "1101/1101 [==============================] - 31s 28ms/step - loss: 0.3003 - accuracy: 0.9042 - val_loss: 0.1851 - val_accuracy: 0.9424\n",
            "Epoch 17/50\n",
            "1101/1101 [==============================] - 31s 28ms/step - loss: 0.2943 - accuracy: 0.9056 - val_loss: 0.1852 - val_accuracy: 0.9422\n",
            "Epoch 18/50\n",
            "1101/1101 [==============================] - 31s 29ms/step - loss: 0.2916 - accuracy: 0.9068 - val_loss: 0.1890 - val_accuracy: 0.9412\n",
            "Epoch 19/50\n",
            "1101/1101 [==============================] - 31s 28ms/step - loss: 0.3007 - accuracy: 0.9005 - val_loss: 0.1869 - val_accuracy: 0.9417\n",
            "Epoch 20/50\n",
            "1101/1101 [==============================] - 31s 28ms/step - loss: 0.2958 - accuracy: 0.9053 - val_loss: 0.1900 - val_accuracy: 0.9427\n",
            "Epoch 21/50\n",
            "1101/1101 [==============================] - 30s 27ms/step - loss: 0.3008 - accuracy: 0.9046 - val_loss: 0.1924 - val_accuracy: 0.9407\n",
            "Epoch 22/50\n",
            "1101/1101 [==============================] - 29s 27ms/step - loss: 0.2871 - accuracy: 0.9064 - val_loss: 0.1924 - val_accuracy: 0.9422\n",
            "Epoch 23/50\n",
            "1101/1101 [==============================] - 31s 28ms/step - loss: 0.2854 - accuracy: 0.9076 - val_loss: 0.1915 - val_accuracy: 0.9402\n",
            "Epoch 24/50\n",
            "1101/1101 [==============================] - 29s 27ms/step - loss: 0.2897 - accuracy: 0.9062 - val_loss: 0.1922 - val_accuracy: 0.9404\n",
            "Epoch 25/50\n",
            "1101/1101 [==============================] - 33s 30ms/step - loss: 0.2875 - accuracy: 0.9083 - val_loss: 0.1880 - val_accuracy: 0.9414\n",
            "Epoch 26/50\n",
            "1101/1101 [==============================] - 29s 27ms/step - loss: 0.2814 - accuracy: 0.9103 - val_loss: 0.1870 - val_accuracy: 0.9439\n",
            "Epoch 27/50\n",
            "1101/1101 [==============================] - 31s 28ms/step - loss: 0.2872 - accuracy: 0.9091 - val_loss: 0.1860 - val_accuracy: 0.9449\n",
            "Epoch 28/50\n",
            "1101/1101 [==============================] - 30s 27ms/step - loss: 0.2909 - accuracy: 0.9058 - val_loss: 0.1888 - val_accuracy: 0.9429\n",
            "Epoch 29/50\n",
            "1101/1101 [==============================] - 31s 28ms/step - loss: 0.2891 - accuracy: 0.9073 - val_loss: 0.1855 - val_accuracy: 0.9437\n",
            "Epoch 30/50\n",
            "1101/1101 [==============================] - 30s 27ms/step - loss: 0.2806 - accuracy: 0.9099 - val_loss: 0.1886 - val_accuracy: 0.9414\n",
            "Epoch 31/50\n",
            "1101/1101 [==============================] - 30s 27ms/step - loss: 0.2765 - accuracy: 0.9091 - val_loss: 0.1840 - val_accuracy: 0.9447\n",
            "Epoch 32/50\n",
            "1101/1101 [==============================] - 31s 28ms/step - loss: 0.2817 - accuracy: 0.9093 - val_loss: 0.1835 - val_accuracy: 0.9442\n",
            "Epoch 33/50\n",
            "1101/1101 [==============================] - 31s 28ms/step - loss: 0.2790 - accuracy: 0.9094 - val_loss: 0.1834 - val_accuracy: 0.9439\n",
            "Epoch 34/50\n",
            "1101/1101 [==============================] - 32s 29ms/step - loss: 0.2807 - accuracy: 0.9095 - val_loss: 0.1884 - val_accuracy: 0.9414\n",
            "Epoch 35/50\n",
            "1101/1101 [==============================] - 32s 29ms/step - loss: 0.2822 - accuracy: 0.9078 - val_loss: 0.1842 - val_accuracy: 0.9457\n",
            "Epoch 36/50\n",
            "1101/1101 [==============================] - 31s 28ms/step - loss: 0.2796 - accuracy: 0.9092 - val_loss: 0.1852 - val_accuracy: 0.9442\n",
            "Epoch 37/50\n",
            "1101/1101 [==============================] - 31s 28ms/step - loss: 0.2757 - accuracy: 0.9100 - val_loss: 0.1775 - val_accuracy: 0.9447\n",
            "Epoch 38/50\n",
            "1101/1101 [==============================] - 30s 27ms/step - loss: 0.2773 - accuracy: 0.9103 - val_loss: 0.1816 - val_accuracy: 0.9459\n",
            "Epoch 39/50\n",
            "1101/1101 [==============================] - 31s 28ms/step - loss: 0.2712 - accuracy: 0.9115 - val_loss: 0.1799 - val_accuracy: 0.9464\n",
            "Epoch 40/50\n",
            "1101/1101 [==============================] - 32s 29ms/step - loss: 0.2670 - accuracy: 0.9121 - val_loss: 0.1804 - val_accuracy: 0.9432\n",
            "Epoch 41/50\n",
            "1101/1101 [==============================] - 31s 28ms/step - loss: 0.2704 - accuracy: 0.9117 - val_loss: 0.1809 - val_accuracy: 0.9432\n",
            "Epoch 42/50\n",
            "1101/1101 [==============================] - 32s 29ms/step - loss: 0.2695 - accuracy: 0.9095 - val_loss: 0.1815 - val_accuracy: 0.9444\n",
            "Epoch 43/50\n",
            "1101/1101 [==============================] - 30s 28ms/step - loss: 0.2748 - accuracy: 0.9117 - val_loss: 0.1789 - val_accuracy: 0.9462\n",
            "Epoch 44/50\n",
            "1101/1101 [==============================] - 30s 27ms/step - loss: 0.2700 - accuracy: 0.9112 - val_loss: 0.1857 - val_accuracy: 0.9439\n",
            "Epoch 45/50\n",
            "1101/1101 [==============================] - 30s 27ms/step - loss: 0.2653 - accuracy: 0.9150 - val_loss: 0.1850 - val_accuracy: 0.9439\n",
            "Epoch 46/50\n",
            "1101/1101 [==============================] - 31s 28ms/step - loss: 0.2687 - accuracy: 0.9122 - val_loss: 0.1832 - val_accuracy: 0.9444\n",
            "Epoch 47/50\n",
            "1101/1101 [==============================] - 31s 28ms/step - loss: 0.2648 - accuracy: 0.9139 - val_loss: 0.1852 - val_accuracy: 0.9447\n",
            "Epoch 48/50\n",
            "1101/1101 [==============================] - 32s 29ms/step - loss: 0.2682 - accuracy: 0.9140 - val_loss: 0.1859 - val_accuracy: 0.9454\n",
            "Epoch 49/50\n",
            "1101/1101 [==============================] - 30s 28ms/step - loss: 0.2641 - accuracy: 0.9140 - val_loss: 0.1869 - val_accuracy: 0.9447\n",
            "Epoch 50/50\n",
            "1101/1101 [==============================] - 31s 28ms/step - loss: 0.2679 - accuracy: 0.9145 - val_loss: 0.1887 - val_accuracy: 0.9462\n"
          ]
        }
      ]
    },
    {
      "cell_type": "code",
      "source": [
        "classifier.evaluate(test_set)"
      ],
      "metadata": {
        "colab": {
          "base_uri": "https://localhost:8080/"
        },
        "id": "M9rlrw-u7JQx",
        "outputId": "6bb09681-df91-410c-fae9-05b49d11d14e"
      },
      "execution_count": null,
      "outputs": [
        {
          "output_type": "stream",
          "name": "stdout",
          "text": [
            "352/352 [==============================] - 6s 16ms/step - loss: 2.3711 - accuracy: 0.8196\n"
          ]
        },
        {
          "output_type": "execute_result",
          "data": {
            "text/plain": [
              "[2.371077537536621, 0.8196197152137756]"
            ]
          },
          "metadata": {},
          "execution_count": 47
        }
      ]
    },
    {
      "cell_type": "code",
      "source": [
        "classifier.load_weights('train_weights3.h5')\n",
        "history1=classifier.fit(train_set, steps_per_epoch = len(train_set), epochs = 100,\n",
        "                        validation_data = val_set, validation_steps = len(val_set))\n",
        "classifier.save_weights('train_weights4.h5')"
      ],
      "metadata": {
        "colab": {
          "base_uri": "https://localhost:8080/"
        },
        "id": "64euwILhnfKm",
        "outputId": "182c1bff-5c57-4989-de35-7cb7aef2efda"
      },
      "execution_count": null,
      "outputs": [
        {
          "output_type": "stream",
          "name": "stdout",
          "text": [
            "Epoch 1/100\n",
            "338/338 [==============================] - 11s 31ms/step - loss: 0.8114 - accuracy: 0.7566 - val_loss: 0.3173 - val_accuracy: 0.9058\n",
            "Epoch 2/100\n",
            "338/338 [==============================] - 10s 31ms/step - loss: 0.8112 - accuracy: 0.7573 - val_loss: 0.3126 - val_accuracy: 0.9033\n",
            "Epoch 3/100\n",
            "338/338 [==============================] - 9s 27ms/step - loss: 0.8072 - accuracy: 0.7597 - val_loss: 0.2985 - val_accuracy: 0.9133\n",
            "Epoch 4/100\n",
            "338/338 [==============================] - 10s 31ms/step - loss: 0.8026 - accuracy: 0.7631 - val_loss: 0.3003 - val_accuracy: 0.9100\n",
            "Epoch 5/100\n",
            "338/338 [==============================] - 11s 34ms/step - loss: 0.8000 - accuracy: 0.7583 - val_loss: 0.2970 - val_accuracy: 0.9125\n",
            "Epoch 6/100\n",
            "338/338 [==============================] - 10s 30ms/step - loss: 0.7912 - accuracy: 0.7612 - val_loss: 0.2981 - val_accuracy: 0.9125\n",
            "Epoch 7/100\n",
            "338/338 [==============================] - 11s 31ms/step - loss: 0.7968 - accuracy: 0.7605 - val_loss: 0.2838 - val_accuracy: 0.9150\n",
            "Epoch 8/100\n",
            "338/338 [==============================] - 9s 27ms/step - loss: 0.8181 - accuracy: 0.7534 - val_loss: 0.2963 - val_accuracy: 0.9083\n",
            "Epoch 9/100\n",
            "338/338 [==============================] - 10s 30ms/step - loss: 0.8186 - accuracy: 0.7620 - val_loss: 0.2940 - val_accuracy: 0.9125\n",
            "Epoch 10/100\n",
            "338/338 [==============================] - 11s 31ms/step - loss: 0.7853 - accuracy: 0.7659 - val_loss: 0.2863 - val_accuracy: 0.9158\n",
            "Epoch 11/100\n",
            "338/338 [==============================] - 11s 32ms/step - loss: 0.7976 - accuracy: 0.7625 - val_loss: 0.2913 - val_accuracy: 0.9075\n",
            "Epoch 12/100\n",
            "338/338 [==============================] - 9s 26ms/step - loss: 0.7883 - accuracy: 0.7642 - val_loss: 0.3013 - val_accuracy: 0.9067\n",
            "Epoch 13/100\n",
            "338/338 [==============================] - 10s 31ms/step - loss: 0.7732 - accuracy: 0.7700 - val_loss: 0.2954 - val_accuracy: 0.9133\n",
            "Epoch 14/100\n",
            "338/338 [==============================] - 10s 31ms/step - loss: 0.7824 - accuracy: 0.7676 - val_loss: 0.2952 - val_accuracy: 0.9075\n",
            "Epoch 15/100\n",
            "338/338 [==============================] - 10s 28ms/step - loss: 0.7739 - accuracy: 0.7778 - val_loss: 0.2885 - val_accuracy: 0.9142\n",
            "Epoch 16/100\n",
            "338/338 [==============================] - 10s 29ms/step - loss: 0.7917 - accuracy: 0.7597 - val_loss: 0.2973 - val_accuracy: 0.9108\n",
            "Epoch 17/100\n",
            "338/338 [==============================] - 10s 30ms/step - loss: 0.7655 - accuracy: 0.7731 - val_loss: 0.2969 - val_accuracy: 0.9117\n",
            "Epoch 18/100\n",
            "338/338 [==============================] - 10s 29ms/step - loss: 0.7687 - accuracy: 0.7750 - val_loss: 0.2933 - val_accuracy: 0.9117\n",
            "Epoch 19/100\n",
            "338/338 [==============================] - 9s 27ms/step - loss: 0.7772 - accuracy: 0.7675 - val_loss: 0.2935 - val_accuracy: 0.9117\n",
            "Epoch 20/100\n",
            "338/338 [==============================] - 10s 30ms/step - loss: 0.7644 - accuracy: 0.7683 - val_loss: 0.2784 - val_accuracy: 0.9150\n",
            "Epoch 21/100\n",
            "338/338 [==============================] - 11s 31ms/step - loss: 0.7541 - accuracy: 0.7730 - val_loss: 0.2943 - val_accuracy: 0.9133\n",
            "Epoch 22/100\n",
            "338/338 [==============================] - 9s 27ms/step - loss: 0.7863 - accuracy: 0.7649 - val_loss: 0.2819 - val_accuracy: 0.9192\n",
            "Epoch 23/100\n",
            "338/338 [==============================] - 10s 31ms/step - loss: 0.7606 - accuracy: 0.7745 - val_loss: 0.2856 - val_accuracy: 0.9167\n",
            "Epoch 24/100\n",
            "338/338 [==============================] - 10s 31ms/step - loss: 0.7533 - accuracy: 0.7753 - val_loss: 0.2803 - val_accuracy: 0.9200\n",
            "Epoch 25/100\n",
            "338/338 [==============================] - 9s 27ms/step - loss: 0.7815 - accuracy: 0.7672 - val_loss: 0.2884 - val_accuracy: 0.9183\n",
            "Epoch 26/100\n",
            "338/338 [==============================] - 10s 30ms/step - loss: 0.7688 - accuracy: 0.7728 - val_loss: 0.2866 - val_accuracy: 0.9158\n",
            "Epoch 27/100\n",
            "338/338 [==============================] - 10s 30ms/step - loss: 0.7713 - accuracy: 0.7701 - val_loss: 0.2761 - val_accuracy: 0.9233\n",
            "Epoch 28/100\n",
            "338/338 [==============================] - 12s 35ms/step - loss: 0.7598 - accuracy: 0.7719 - val_loss: 0.2712 - val_accuracy: 0.9167\n",
            "Epoch 29/100\n",
            "338/338 [==============================] - 9s 27ms/step - loss: 0.7418 - accuracy: 0.7813 - val_loss: 0.2772 - val_accuracy: 0.9175\n",
            "Epoch 30/100\n",
            "338/338 [==============================] - 10s 29ms/step - loss: 0.7488 - accuracy: 0.7732 - val_loss: 0.2921 - val_accuracy: 0.9142\n",
            "Epoch 31/100\n",
            "338/338 [==============================] - 11s 31ms/step - loss: 0.7704 - accuracy: 0.7694 - val_loss: 0.2945 - val_accuracy: 0.9133\n",
            "Epoch 32/100\n",
            "338/338 [==============================] - 11s 31ms/step - loss: 0.7561 - accuracy: 0.7744 - val_loss: 0.2849 - val_accuracy: 0.9100\n",
            "Epoch 33/100\n",
            "338/338 [==============================] - 10s 30ms/step - loss: 0.7360 - accuracy: 0.7784 - val_loss: 0.2790 - val_accuracy: 0.9133\n",
            "Epoch 34/100\n",
            "338/338 [==============================] - 11s 32ms/step - loss: 0.7616 - accuracy: 0.7724 - val_loss: 0.2895 - val_accuracy: 0.9083\n",
            "Epoch 35/100\n",
            "338/338 [==============================] - 9s 27ms/step - loss: 0.7272 - accuracy: 0.7784 - val_loss: 0.2849 - val_accuracy: 0.9083\n",
            "Epoch 36/100\n",
            "338/338 [==============================] - 11s 31ms/step - loss: 0.7474 - accuracy: 0.7740 - val_loss: 0.2852 - val_accuracy: 0.9158\n",
            "Epoch 37/100\n",
            "338/338 [==============================] - 10s 30ms/step - loss: 0.7591 - accuracy: 0.7702 - val_loss: 0.2742 - val_accuracy: 0.9200\n",
            "Epoch 38/100\n",
            "338/338 [==============================] - 11s 31ms/step - loss: 0.7316 - accuracy: 0.7831 - val_loss: 0.2683 - val_accuracy: 0.9200\n",
            "Epoch 39/100\n",
            "338/338 [==============================] - 10s 31ms/step - loss: 0.7493 - accuracy: 0.7778 - val_loss: 0.2684 - val_accuracy: 0.9208\n",
            "Epoch 40/100\n",
            "338/338 [==============================] - 10s 30ms/step - loss: 0.7474 - accuracy: 0.7831 - val_loss: 0.2704 - val_accuracy: 0.9150\n",
            "Epoch 41/100\n",
            "338/338 [==============================] - 10s 29ms/step - loss: 0.7309 - accuracy: 0.7827 - val_loss: 0.2634 - val_accuracy: 0.9150\n",
            "Epoch 42/100\n",
            "338/338 [==============================] - 9s 27ms/step - loss: 0.7418 - accuracy: 0.7786 - val_loss: 0.2725 - val_accuracy: 0.9092\n",
            "Epoch 43/100\n",
            "338/338 [==============================] - 10s 30ms/step - loss: 0.7335 - accuracy: 0.7816 - val_loss: 0.2579 - val_accuracy: 0.9217\n",
            "Epoch 44/100\n",
            "338/338 [==============================] - 10s 30ms/step - loss: 0.7231 - accuracy: 0.7831 - val_loss: 0.2678 - val_accuracy: 0.9158\n",
            "Epoch 45/100\n",
            "338/338 [==============================] - 10s 29ms/step - loss: 0.7416 - accuracy: 0.7777 - val_loss: 0.2529 - val_accuracy: 0.9200\n",
            "Epoch 46/100\n",
            "338/338 [==============================] - 10s 31ms/step - loss: 0.7403 - accuracy: 0.7827 - val_loss: 0.2634 - val_accuracy: 0.9167\n",
            "Epoch 47/100\n",
            "338/338 [==============================] - 10s 30ms/step - loss: 0.7361 - accuracy: 0.7776 - val_loss: 0.2614 - val_accuracy: 0.9150\n",
            "Epoch 48/100\n",
            "338/338 [==============================] - 9s 27ms/step - loss: 0.7321 - accuracy: 0.7815 - val_loss: 0.2607 - val_accuracy: 0.9150\n",
            "Epoch 49/100\n",
            "338/338 [==============================] - 12s 36ms/step - loss: 0.7317 - accuracy: 0.7845 - val_loss: 0.2750 - val_accuracy: 0.9092\n",
            "Epoch 50/100\n",
            "338/338 [==============================] - 10s 29ms/step - loss: 0.7243 - accuracy: 0.7828 - val_loss: 0.2682 - val_accuracy: 0.9158\n",
            "Epoch 51/100\n",
            "338/338 [==============================] - 10s 28ms/step - loss: 0.7375 - accuracy: 0.7746 - val_loss: 0.2770 - val_accuracy: 0.9183\n",
            "Epoch 52/100\n",
            "338/338 [==============================] - 11s 31ms/step - loss: 0.7033 - accuracy: 0.7868 - val_loss: 0.2608 - val_accuracy: 0.9208\n",
            "Epoch 53/100\n",
            "338/338 [==============================] - 10s 31ms/step - loss: 0.7332 - accuracy: 0.7806 - val_loss: 0.2653 - val_accuracy: 0.9158\n",
            "Epoch 54/100\n",
            "338/338 [==============================] - 10s 29ms/step - loss: 0.7273 - accuracy: 0.7753 - val_loss: 0.2620 - val_accuracy: 0.9200\n",
            "Epoch 55/100\n",
            "338/338 [==============================] - 10s 31ms/step - loss: 0.7223 - accuracy: 0.7865 - val_loss: 0.2572 - val_accuracy: 0.9242\n",
            "Epoch 56/100\n",
            "338/338 [==============================] - 10s 31ms/step - loss: 0.7153 - accuracy: 0.7835 - val_loss: 0.2495 - val_accuracy: 0.9217\n",
            "Epoch 57/100\n",
            "338/338 [==============================] - 9s 26ms/step - loss: 0.7039 - accuracy: 0.7871 - val_loss: 0.2671 - val_accuracy: 0.9158\n",
            "Epoch 58/100\n",
            "338/338 [==============================] - 11s 31ms/step - loss: 0.7267 - accuracy: 0.7806 - val_loss: 0.2634 - val_accuracy: 0.9167\n",
            "Epoch 59/100\n",
            "338/338 [==============================] - 11s 32ms/step - loss: 0.7214 - accuracy: 0.7866 - val_loss: 0.2566 - val_accuracy: 0.9183\n",
            "Epoch 60/100\n",
            "338/338 [==============================] - 9s 27ms/step - loss: 0.7109 - accuracy: 0.7856 - val_loss: 0.2511 - val_accuracy: 0.9242\n",
            "Epoch 61/100\n",
            "338/338 [==============================] - 11s 32ms/step - loss: 0.6988 - accuracy: 0.7903 - val_loss: 0.2433 - val_accuracy: 0.9250\n",
            "Epoch 62/100\n",
            "338/338 [==============================] - 11s 31ms/step - loss: 0.7068 - accuracy: 0.7882 - val_loss: 0.2520 - val_accuracy: 0.9242\n",
            "Epoch 63/100\n",
            "338/338 [==============================] - 9s 27ms/step - loss: 0.7013 - accuracy: 0.7903 - val_loss: 0.2569 - val_accuracy: 0.9200\n",
            "Epoch 64/100\n",
            "338/338 [==============================] - 11s 31ms/step - loss: 0.7205 - accuracy: 0.7844 - val_loss: 0.2405 - val_accuracy: 0.9233\n",
            "Epoch 65/100\n",
            "338/338 [==============================] - 11s 32ms/step - loss: 0.7068 - accuracy: 0.7898 - val_loss: 0.2590 - val_accuracy: 0.9183\n",
            "Epoch 66/100\n",
            "338/338 [==============================] - 10s 28ms/step - loss: 0.7095 - accuracy: 0.7823 - val_loss: 0.2549 - val_accuracy: 0.9167\n",
            "Epoch 67/100\n",
            "338/338 [==============================] - 10s 31ms/step - loss: 0.7124 - accuracy: 0.7860 - val_loss: 0.2551 - val_accuracy: 0.9192\n",
            "Epoch 68/100\n",
            "338/338 [==============================] - 10s 31ms/step - loss: 0.6961 - accuracy: 0.7866 - val_loss: 0.2650 - val_accuracy: 0.9192\n",
            "Epoch 69/100\n",
            "338/338 [==============================] - 11s 34ms/step - loss: 0.6845 - accuracy: 0.7960 - val_loss: 0.2537 - val_accuracy: 0.9267\n",
            "Epoch 70/100\n",
            "338/338 [==============================] - 10s 30ms/step - loss: 0.6997 - accuracy: 0.7868 - val_loss: 0.2590 - val_accuracy: 0.9233\n",
            "Epoch 71/100\n",
            "338/338 [==============================] - 10s 30ms/step - loss: 0.6881 - accuracy: 0.7931 - val_loss: 0.2629 - val_accuracy: 0.9208\n",
            "Epoch 72/100\n",
            "338/338 [==============================] - 10s 29ms/step - loss: 0.7092 - accuracy: 0.7918 - val_loss: 0.2706 - val_accuracy: 0.9158\n",
            "Epoch 73/100\n",
            "338/338 [==============================] - 10s 31ms/step - loss: 0.6975 - accuracy: 0.7896 - val_loss: 0.2474 - val_accuracy: 0.9242\n",
            "Epoch 74/100\n",
            "338/338 [==============================] - 10s 31ms/step - loss: 0.6978 - accuracy: 0.7943 - val_loss: 0.2479 - val_accuracy: 0.9275\n",
            "Epoch 75/100\n",
            "338/338 [==============================] - 9s 26ms/step - loss: 0.6913 - accuracy: 0.7888 - val_loss: 0.2515 - val_accuracy: 0.9275\n",
            "Epoch 76/100\n",
            "338/338 [==============================] - 10s 31ms/step - loss: 0.6913 - accuracy: 0.7931 - val_loss: 0.2460 - val_accuracy: 0.9258\n",
            "Epoch 77/100\n",
            "338/338 [==============================] - 10s 31ms/step - loss: 0.6851 - accuracy: 0.7979 - val_loss: 0.2414 - val_accuracy: 0.9317\n",
            "Epoch 78/100\n",
            "338/338 [==============================] - 10s 30ms/step - loss: 0.6785 - accuracy: 0.7971 - val_loss: 0.2410 - val_accuracy: 0.9300\n",
            "Epoch 79/100\n",
            "338/338 [==============================] - 9s 28ms/step - loss: 0.6870 - accuracy: 0.7948 - val_loss: 0.2547 - val_accuracy: 0.9150\n",
            "Epoch 80/100\n",
            "338/338 [==============================] - 11s 32ms/step - loss: 0.6755 - accuracy: 0.7997 - val_loss: 0.2394 - val_accuracy: 0.9233\n",
            "Epoch 81/100\n",
            "338/338 [==============================] - 10s 31ms/step - loss: 0.6793 - accuracy: 0.7976 - val_loss: 0.2507 - val_accuracy: 0.9175\n",
            "Epoch 82/100\n",
            "338/338 [==============================] - 9s 27ms/step - loss: 0.6808 - accuracy: 0.8010 - val_loss: 0.2468 - val_accuracy: 0.9250\n",
            "Epoch 83/100\n",
            "338/338 [==============================] - 10s 31ms/step - loss: 0.6811 - accuracy: 0.7947 - val_loss: 0.2391 - val_accuracy: 0.9258\n",
            "Epoch 84/100\n",
            "338/338 [==============================] - 11s 32ms/step - loss: 0.6635 - accuracy: 0.8008 - val_loss: 0.2430 - val_accuracy: 0.9283\n",
            "Epoch 85/100\n",
            "338/338 [==============================] - 11s 31ms/step - loss: 0.6942 - accuracy: 0.7989 - val_loss: 0.2468 - val_accuracy: 0.9242\n",
            "Epoch 86/100\n",
            "338/338 [==============================] - 11s 33ms/step - loss: 0.6708 - accuracy: 0.7975 - val_loss: 0.2294 - val_accuracy: 0.9317\n",
            "Epoch 87/100\n",
            "338/338 [==============================] - 10s 29ms/step - loss: 0.6797 - accuracy: 0.7908 - val_loss: 0.2367 - val_accuracy: 0.9267\n",
            "Epoch 88/100\n",
            "338/338 [==============================] - 12s 35ms/step - loss: 0.6767 - accuracy: 0.7967 - val_loss: 0.2370 - val_accuracy: 0.9258\n",
            "Epoch 89/100\n",
            "338/338 [==============================] - 11s 32ms/step - loss: 0.6601 - accuracy: 0.7980 - val_loss: 0.2348 - val_accuracy: 0.9267\n",
            "Epoch 90/100\n",
            "338/338 [==============================] - 10s 31ms/step - loss: 0.6720 - accuracy: 0.8005 - val_loss: 0.2344 - val_accuracy: 0.9283\n",
            "Epoch 91/100\n",
            "338/338 [==============================] - 10s 29ms/step - loss: 0.6710 - accuracy: 0.7957 - val_loss: 0.2323 - val_accuracy: 0.9275\n",
            "Epoch 92/100\n",
            "338/338 [==============================] - 11s 31ms/step - loss: 0.6925 - accuracy: 0.7929 - val_loss: 0.2383 - val_accuracy: 0.9200\n",
            "Epoch 93/100\n",
            "338/338 [==============================] - 11s 31ms/step - loss: 0.6818 - accuracy: 0.7964 - val_loss: 0.2317 - val_accuracy: 0.9250\n",
            "Epoch 94/100\n",
            "338/338 [==============================] - 10s 30ms/step - loss: 0.6600 - accuracy: 0.8033 - val_loss: 0.2386 - val_accuracy: 0.9242\n",
            "Epoch 95/100\n",
            "338/338 [==============================] - 10s 30ms/step - loss: 0.6697 - accuracy: 0.8009 - val_loss: 0.2391 - val_accuracy: 0.9225\n",
            "Epoch 96/100\n",
            "338/338 [==============================] - 11s 32ms/step - loss: 0.6690 - accuracy: 0.7994 - val_loss: 0.2405 - val_accuracy: 0.9258\n",
            "Epoch 97/100\n",
            "338/338 [==============================] - 11s 32ms/step - loss: 0.6727 - accuracy: 0.7973 - val_loss: 0.2430 - val_accuracy: 0.9283\n",
            "Epoch 98/100\n",
            "338/338 [==============================] - 10s 28ms/step - loss: 0.6578 - accuracy: 0.7978 - val_loss: 0.2292 - val_accuracy: 0.9292\n",
            "Epoch 99/100\n",
            "338/338 [==============================] - 11s 32ms/step - loss: 0.6373 - accuracy: 0.8066 - val_loss: 0.2351 - val_accuracy: 0.9258\n",
            "Epoch 100/100\n",
            "338/338 [==============================] - 10s 31ms/step - loss: 0.6571 - accuracy: 0.7980 - val_loss: 0.2310 - val_accuracy: 0.9267\n"
          ]
        }
      ]
    },
    {
      "cell_type": "code",
      "source": [
        "classifier.evaluate(test_set)"
      ],
      "metadata": {
        "colab": {
          "base_uri": "https://localhost:8080/"
        },
        "id": "a9PkxlRgnfkp",
        "outputId": "1d3b299f-cb54-45f3-ae55-3b3dd2353f56"
      },
      "execution_count": null,
      "outputs": [
        {
          "output_type": "stream",
          "name": "stdout",
          "text": [
            "94/94 [==============================] - 1s 14ms/step - loss: 0.2473 - accuracy: 0.9230\n"
          ]
        },
        {
          "output_type": "execute_result",
          "data": {
            "text/plain": [
              "[0.24728159606456757, 0.9229999780654907]"
            ]
          },
          "metadata": {},
          "execution_count": 23
        }
      ]
    },
    {
      "cell_type": "code",
      "source": [
        "classifier.load_weights('train_weights4.h5')\n",
        "history2=classifier.fit(train_set, steps_per_epoch = len(train_set), epochs = 100,\n",
        "                        validation_data = val_set, validation_steps = len(val_set))\n",
        "classifier.save_weights('train_weights5.h5')"
      ],
      "metadata": {
        "colab": {
          "base_uri": "https://localhost:8080/"
        },
        "id": "s2tAT2n5ngWj",
        "outputId": "dd6021b2-9d22-4b6d-9d2f-0b6c52892a2b"
      },
      "execution_count": null,
      "outputs": [
        {
          "output_type": "stream",
          "name": "stdout",
          "text": [
            "Epoch 1/100\n",
            "338/338 [==============================] - 11s 32ms/step - loss: 0.6710 - accuracy: 0.8010 - val_loss: 0.2198 - val_accuracy: 0.9283\n",
            "Epoch 2/100\n",
            "338/338 [==============================] - 11s 32ms/step - loss: 0.6786 - accuracy: 0.7955 - val_loss: 0.2222 - val_accuracy: 0.9267\n",
            "Epoch 3/100\n",
            "338/338 [==============================] - 11s 31ms/step - loss: 0.6410 - accuracy: 0.8129 - val_loss: 0.2262 - val_accuracy: 0.9300\n",
            "Epoch 4/100\n",
            "338/338 [==============================] - 11s 31ms/step - loss: 0.6614 - accuracy: 0.7997 - val_loss: 0.2291 - val_accuracy: 0.9275\n",
            "Epoch 5/100\n",
            "338/338 [==============================] - 11s 31ms/step - loss: 0.6504 - accuracy: 0.8044 - val_loss: 0.2236 - val_accuracy: 0.9283\n",
            "Epoch 6/100\n",
            "338/338 [==============================] - 11s 31ms/step - loss: 0.6607 - accuracy: 0.8003 - val_loss: 0.2338 - val_accuracy: 0.9258\n",
            "Epoch 7/100\n",
            "338/338 [==============================] - 10s 30ms/step - loss: 0.6508 - accuracy: 0.8048 - val_loss: 0.2246 - val_accuracy: 0.9275\n",
            "Epoch 8/100\n",
            "338/338 [==============================] - 10s 28ms/step - loss: 0.6559 - accuracy: 0.8020 - val_loss: 0.2291 - val_accuracy: 0.9258\n",
            "Epoch 9/100\n",
            "338/338 [==============================] - 11s 31ms/step - loss: 0.6574 - accuracy: 0.8077 - val_loss: 0.2380 - val_accuracy: 0.9233\n",
            "Epoch 10/100\n",
            "338/338 [==============================] - 11s 31ms/step - loss: 0.6441 - accuracy: 0.8068 - val_loss: 0.2291 - val_accuracy: 0.9217\n",
            "Epoch 11/100\n",
            "338/338 [==============================] - 10s 29ms/step - loss: 0.6405 - accuracy: 0.8082 - val_loss: 0.2283 - val_accuracy: 0.9325\n",
            "Epoch 12/100\n",
            "338/338 [==============================] - 11s 32ms/step - loss: 0.6384 - accuracy: 0.8055 - val_loss: 0.2382 - val_accuracy: 0.9217\n",
            "Epoch 13/100\n",
            "338/338 [==============================] - 11s 32ms/step - loss: 0.6467 - accuracy: 0.8096 - val_loss: 0.2255 - val_accuracy: 0.9225\n",
            "Epoch 14/100\n",
            "338/338 [==============================] - 10s 29ms/step - loss: 0.6501 - accuracy: 0.8062 - val_loss: 0.2310 - val_accuracy: 0.9192\n",
            "Epoch 15/100\n",
            "338/338 [==============================] - 11s 31ms/step - loss: 0.6442 - accuracy: 0.8091 - val_loss: 0.2226 - val_accuracy: 0.9250\n",
            "Epoch 16/100\n",
            "338/338 [==============================] - 11s 31ms/step - loss: 0.6354 - accuracy: 0.8101 - val_loss: 0.2225 - val_accuracy: 0.9258\n",
            "Epoch 17/100\n",
            "338/338 [==============================] - 10s 30ms/step - loss: 0.6456 - accuracy: 0.8074 - val_loss: 0.2155 - val_accuracy: 0.9292\n",
            "Epoch 18/100\n",
            "338/338 [==============================] - 10s 30ms/step - loss: 0.6365 - accuracy: 0.8105 - val_loss: 0.2080 - val_accuracy: 0.9333\n",
            "Epoch 19/100\n",
            "338/338 [==============================] - 11s 31ms/step - loss: 0.6366 - accuracy: 0.8089 - val_loss: 0.2186 - val_accuracy: 0.9275\n",
            "Epoch 20/100\n",
            "338/338 [==============================] - 10s 31ms/step - loss: 0.6312 - accuracy: 0.8105 - val_loss: 0.2289 - val_accuracy: 0.9267\n",
            "Epoch 21/100\n",
            "338/338 [==============================] - 10s 29ms/step - loss: 0.6400 - accuracy: 0.8080 - val_loss: 0.2264 - val_accuracy: 0.9267\n",
            "Epoch 22/100\n",
            "338/338 [==============================] - 11s 32ms/step - loss: 0.6249 - accuracy: 0.8121 - val_loss: 0.2226 - val_accuracy: 0.9267\n",
            "Epoch 23/100\n",
            "338/338 [==============================] - 10s 31ms/step - loss: 0.6276 - accuracy: 0.8130 - val_loss: 0.2188 - val_accuracy: 0.9308\n",
            "Epoch 24/100\n",
            "338/338 [==============================] - 9s 27ms/step - loss: 0.6572 - accuracy: 0.8065 - val_loss: 0.2154 - val_accuracy: 0.9342\n",
            "Epoch 25/100\n",
            "338/338 [==============================] - 10s 31ms/step - loss: 0.6353 - accuracy: 0.8068 - val_loss: 0.2197 - val_accuracy: 0.9308\n",
            "Epoch 26/100\n",
            "338/338 [==============================] - 12s 36ms/step - loss: 0.6419 - accuracy: 0.8071 - val_loss: 0.2261 - val_accuracy: 0.9317\n",
            "Epoch 27/100\n",
            "338/338 [==============================] - 11s 32ms/step - loss: 0.6376 - accuracy: 0.8067 - val_loss: 0.2223 - val_accuracy: 0.9325\n",
            "Epoch 28/100\n",
            "338/338 [==============================] - 10s 31ms/step - loss: 0.6510 - accuracy: 0.8089 - val_loss: 0.2276 - val_accuracy: 0.9300\n",
            "Epoch 29/100\n",
            "338/338 [==============================] - 10s 31ms/step - loss: 0.6386 - accuracy: 0.8081 - val_loss: 0.2305 - val_accuracy: 0.9275\n",
            "Epoch 30/100\n",
            "338/338 [==============================] - 10s 31ms/step - loss: 0.6308 - accuracy: 0.8078 - val_loss: 0.2130 - val_accuracy: 0.9300\n",
            "Epoch 31/100\n",
            "338/338 [==============================] - 10s 31ms/step - loss: 0.6222 - accuracy: 0.8092 - val_loss: 0.2303 - val_accuracy: 0.9233\n",
            "Epoch 32/100\n",
            "338/338 [==============================] - 11s 32ms/step - loss: 0.6261 - accuracy: 0.8183 - val_loss: 0.2282 - val_accuracy: 0.9275\n",
            "Epoch 33/100\n",
            "338/338 [==============================] - 9s 27ms/step - loss: 0.6182 - accuracy: 0.8175 - val_loss: 0.2157 - val_accuracy: 0.9325\n",
            "Epoch 34/100\n",
            "338/338 [==============================] - 11s 31ms/step - loss: 0.6198 - accuracy: 0.8129 - val_loss: 0.2088 - val_accuracy: 0.9317\n",
            "Epoch 35/100\n",
            "338/338 [==============================] - 11s 31ms/step - loss: 0.6269 - accuracy: 0.8119 - val_loss: 0.2195 - val_accuracy: 0.9317\n",
            "Epoch 36/100\n",
            "338/338 [==============================] - 9s 27ms/step - loss: 0.6170 - accuracy: 0.8170 - val_loss: 0.2181 - val_accuracy: 0.9325\n",
            "Epoch 37/100\n",
            "338/338 [==============================] - 11s 32ms/step - loss: 0.6369 - accuracy: 0.8093 - val_loss: 0.2198 - val_accuracy: 0.9333\n",
            "Epoch 38/100\n",
            "338/338 [==============================] - 11s 31ms/step - loss: 0.6109 - accuracy: 0.8128 - val_loss: 0.2181 - val_accuracy: 0.9283\n",
            "Epoch 39/100\n",
            "338/338 [==============================] - 11s 32ms/step - loss: 0.6221 - accuracy: 0.8143 - val_loss: 0.2202 - val_accuracy: 0.9308\n",
            "Epoch 40/100\n",
            "338/338 [==============================] - 9s 27ms/step - loss: 0.6179 - accuracy: 0.8156 - val_loss: 0.2240 - val_accuracy: 0.9308\n",
            "Epoch 41/100\n",
            "338/338 [==============================] - 11s 31ms/step - loss: 0.6333 - accuracy: 0.8129 - val_loss: 0.2232 - val_accuracy: 0.9292\n",
            "Epoch 42/100\n",
            "338/338 [==============================] - 11s 32ms/step - loss: 0.6196 - accuracy: 0.8131 - val_loss: 0.2179 - val_accuracy: 0.9267\n",
            "Epoch 43/100\n",
            "338/338 [==============================] - 9s 28ms/step - loss: 0.6091 - accuracy: 0.8101 - val_loss: 0.2121 - val_accuracy: 0.9317\n",
            "Epoch 44/100\n",
            "338/338 [==============================] - 11s 31ms/step - loss: 0.6147 - accuracy: 0.8169 - val_loss: 0.2143 - val_accuracy: 0.9333\n",
            "Epoch 45/100\n",
            "338/338 [==============================] - 11s 32ms/step - loss: 0.6223 - accuracy: 0.8151 - val_loss: 0.2264 - val_accuracy: 0.9308\n",
            "Epoch 46/100\n",
            "338/338 [==============================] - 12s 36ms/step - loss: 0.6143 - accuracy: 0.8166 - val_loss: 0.2217 - val_accuracy: 0.9308\n",
            "Epoch 47/100\n",
            "338/338 [==============================] - 9s 27ms/step - loss: 0.6050 - accuracy: 0.8192 - val_loss: 0.2198 - val_accuracy: 0.9292\n",
            "Epoch 48/100\n",
            "338/338 [==============================] - 11s 31ms/step - loss: 0.6130 - accuracy: 0.8144 - val_loss: 0.2198 - val_accuracy: 0.9317\n",
            "Epoch 49/100\n",
            "338/338 [==============================] - 11s 32ms/step - loss: 0.6242 - accuracy: 0.8123 - val_loss: 0.2173 - val_accuracy: 0.9358\n",
            "Epoch 50/100\n",
            "338/338 [==============================] - 9s 27ms/step - loss: 0.6072 - accuracy: 0.8171 - val_loss: 0.2233 - val_accuracy: 0.9292\n",
            "Epoch 51/100\n",
            "338/338 [==============================] - 10s 31ms/step - loss: 0.6141 - accuracy: 0.8114 - val_loss: 0.2179 - val_accuracy: 0.9258\n",
            "Epoch 52/100\n",
            "338/338 [==============================] - 11s 33ms/step - loss: 0.6169 - accuracy: 0.8197 - val_loss: 0.2179 - val_accuracy: 0.9258\n",
            "Epoch 53/100\n",
            "338/338 [==============================] - 9s 27ms/step - loss: 0.6082 - accuracy: 0.8175 - val_loss: 0.2225 - val_accuracy: 0.9242\n",
            "Epoch 54/100\n",
            "338/338 [==============================] - 11s 31ms/step - loss: 0.6114 - accuracy: 0.8159 - val_loss: 0.2104 - val_accuracy: 0.9342\n",
            "Epoch 55/100\n",
            "338/338 [==============================] - 11s 31ms/step - loss: 0.6126 - accuracy: 0.8176 - val_loss: 0.2193 - val_accuracy: 0.9325\n",
            "Epoch 56/100\n",
            "338/338 [==============================] - 11s 31ms/step - loss: 0.6069 - accuracy: 0.8184 - val_loss: 0.2106 - val_accuracy: 0.9333\n",
            "Epoch 57/100\n",
            "338/338 [==============================] - 11s 32ms/step - loss: 0.6163 - accuracy: 0.8133 - val_loss: 0.2122 - val_accuracy: 0.9317\n",
            "Epoch 58/100\n",
            "338/338 [==============================] - 11s 31ms/step - loss: 0.6059 - accuracy: 0.8213 - val_loss: 0.2006 - val_accuracy: 0.9342\n",
            "Epoch 59/100\n",
            "338/338 [==============================] - 10s 31ms/step - loss: 0.5986 - accuracy: 0.8221 - val_loss: 0.2086 - val_accuracy: 0.9325\n",
            "Epoch 60/100\n",
            "338/338 [==============================] - 11s 31ms/step - loss: 0.6168 - accuracy: 0.8175 - val_loss: 0.1980 - val_accuracy: 0.9367\n",
            "Epoch 61/100\n",
            "338/338 [==============================] - 9s 28ms/step - loss: 0.6151 - accuracy: 0.8178 - val_loss: 0.2116 - val_accuracy: 0.9300\n",
            "Epoch 62/100\n",
            "338/338 [==============================] - 10s 30ms/step - loss: 0.6070 - accuracy: 0.8170 - val_loss: 0.2121 - val_accuracy: 0.9267\n",
            "Epoch 63/100\n",
            "338/338 [==============================] - 11s 32ms/step - loss: 0.5992 - accuracy: 0.8206 - val_loss: 0.2089 - val_accuracy: 0.9317\n",
            "Epoch 64/100\n",
            "338/338 [==============================] - 10s 29ms/step - loss: 0.6053 - accuracy: 0.8188 - val_loss: 0.2045 - val_accuracy: 0.9308\n",
            "Epoch 65/100\n",
            "338/338 [==============================] - 11s 33ms/step - loss: 0.5940 - accuracy: 0.8206 - val_loss: 0.2101 - val_accuracy: 0.9342\n",
            "Epoch 66/100\n",
            "338/338 [==============================] - 11s 32ms/step - loss: 0.5993 - accuracy: 0.8196 - val_loss: 0.2059 - val_accuracy: 0.9350\n",
            "Epoch 67/100\n",
            "338/338 [==============================] - 9s 26ms/step - loss: 0.6049 - accuracy: 0.8170 - val_loss: 0.2066 - val_accuracy: 0.9325\n",
            "Epoch 68/100\n",
            "338/338 [==============================] - 10s 31ms/step - loss: 0.5986 - accuracy: 0.8169 - val_loss: 0.2032 - val_accuracy: 0.9342\n",
            "Epoch 69/100\n",
            "338/338 [==============================] - 10s 31ms/step - loss: 0.5956 - accuracy: 0.8256 - val_loss: 0.1993 - val_accuracy: 0.9350\n",
            "Epoch 70/100\n",
            "338/338 [==============================] - 9s 26ms/step - loss: 0.5946 - accuracy: 0.8212 - val_loss: 0.1994 - val_accuracy: 0.9375\n",
            "Epoch 71/100\n",
            "338/338 [==============================] - 10s 31ms/step - loss: 0.6039 - accuracy: 0.8171 - val_loss: 0.1920 - val_accuracy: 0.9342\n",
            "Epoch 72/100\n",
            "338/338 [==============================] - 10s 31ms/step - loss: 0.5831 - accuracy: 0.8262 - val_loss: 0.1885 - val_accuracy: 0.9400\n",
            "Epoch 73/100\n",
            "338/338 [==============================] - 10s 30ms/step - loss: 0.5874 - accuracy: 0.8240 - val_loss: 0.1887 - val_accuracy: 0.9367\n",
            "Epoch 74/100\n",
            "338/338 [==============================] - 9s 27ms/step - loss: 0.6095 - accuracy: 0.8156 - val_loss: 0.1962 - val_accuracy: 0.9350\n",
            "Epoch 75/100\n",
            "338/338 [==============================] - 10s 30ms/step - loss: 0.6019 - accuracy: 0.8189 - val_loss: 0.1964 - val_accuracy: 0.9383\n",
            "Epoch 76/100\n",
            "338/338 [==============================] - 10s 30ms/step - loss: 0.5906 - accuracy: 0.8218 - val_loss: 0.2020 - val_accuracy: 0.9367\n",
            "Epoch 77/100\n",
            "338/338 [==============================] - 9s 26ms/step - loss: 0.5884 - accuracy: 0.8237 - val_loss: 0.1919 - val_accuracy: 0.9375\n",
            "Epoch 78/100\n",
            "338/338 [==============================] - 10s 30ms/step - loss: 0.5909 - accuracy: 0.8232 - val_loss: 0.1899 - val_accuracy: 0.9408\n",
            "Epoch 79/100\n",
            "338/338 [==============================] - 11s 31ms/step - loss: 0.5913 - accuracy: 0.8219 - val_loss: 0.1851 - val_accuracy: 0.9417\n",
            "Epoch 80/100\n",
            "338/338 [==============================] - 9s 27ms/step - loss: 0.5937 - accuracy: 0.8256 - val_loss: 0.1889 - val_accuracy: 0.9408\n",
            "Epoch 81/100\n",
            "338/338 [==============================] - 10s 29ms/step - loss: 0.5942 - accuracy: 0.8217 - val_loss: 0.1873 - val_accuracy: 0.9442\n",
            "Epoch 82/100\n",
            "338/338 [==============================] - 10s 31ms/step - loss: 0.5953 - accuracy: 0.8202 - val_loss: 0.1808 - val_accuracy: 0.9442\n",
            "Epoch 83/100\n",
            "338/338 [==============================] - 11s 31ms/step - loss: 0.6024 - accuracy: 0.8188 - val_loss: 0.1956 - val_accuracy: 0.9367\n",
            "Epoch 84/100\n",
            "338/338 [==============================] - 9s 28ms/step - loss: 0.5734 - accuracy: 0.8261 - val_loss: 0.2065 - val_accuracy: 0.9308\n",
            "Epoch 85/100\n",
            "338/338 [==============================] - 10s 31ms/step - loss: 0.5841 - accuracy: 0.8264 - val_loss: 0.2000 - val_accuracy: 0.9358\n",
            "Epoch 86/100\n",
            "338/338 [==============================] - 10s 31ms/step - loss: 0.5700 - accuracy: 0.8256 - val_loss: 0.2055 - val_accuracy: 0.9392\n",
            "Epoch 87/100\n",
            "338/338 [==============================] - 9s 27ms/step - loss: 0.5994 - accuracy: 0.8242 - val_loss: 0.2055 - val_accuracy: 0.9350\n",
            "Epoch 88/100\n",
            "338/338 [==============================] - 11s 31ms/step - loss: 0.5783 - accuracy: 0.8265 - val_loss: 0.2013 - val_accuracy: 0.9350\n",
            "Epoch 89/100\n",
            "338/338 [==============================] - 10s 31ms/step - loss: 0.5760 - accuracy: 0.8258 - val_loss: 0.2041 - val_accuracy: 0.9308\n",
            "Epoch 90/100\n",
            "338/338 [==============================] - 9s 27ms/step - loss: 0.5938 - accuracy: 0.8193 - val_loss: 0.1928 - val_accuracy: 0.9367\n",
            "Epoch 91/100\n",
            "338/338 [==============================] - 11s 33ms/step - loss: 0.5849 - accuracy: 0.8169 - val_loss: 0.1930 - val_accuracy: 0.9375\n",
            "Epoch 92/100\n",
            "338/338 [==============================] - 11s 32ms/step - loss: 0.5704 - accuracy: 0.8262 - val_loss: 0.2014 - val_accuracy: 0.9292\n",
            "Epoch 93/100\n",
            "338/338 [==============================] - 9s 27ms/step - loss: 0.5733 - accuracy: 0.8269 - val_loss: 0.2012 - val_accuracy: 0.9317\n",
            "Epoch 94/100\n",
            "338/338 [==============================] - 11s 31ms/step - loss: 0.5949 - accuracy: 0.8173 - val_loss: 0.1952 - val_accuracy: 0.9350\n",
            "Epoch 95/100\n",
            "338/338 [==============================] - 11s 32ms/step - loss: 0.5802 - accuracy: 0.8269 - val_loss: 0.1950 - val_accuracy: 0.9350\n",
            "Epoch 96/100\n",
            "338/338 [==============================] - 9s 28ms/step - loss: 0.5771 - accuracy: 0.8243 - val_loss: 0.1982 - val_accuracy: 0.9333\n",
            "Epoch 97/100\n",
            "338/338 [==============================] - 10s 31ms/step - loss: 0.5784 - accuracy: 0.8277 - val_loss: 0.1920 - val_accuracy: 0.9392\n",
            "Epoch 98/100\n",
            "338/338 [==============================] - 11s 32ms/step - loss: 0.5805 - accuracy: 0.8284 - val_loss: 0.1881 - val_accuracy: 0.9392\n",
            "Epoch 99/100\n",
            "338/338 [==============================] - 10s 30ms/step - loss: 0.5813 - accuracy: 0.8219 - val_loss: 0.1849 - val_accuracy: 0.9400\n",
            "Epoch 100/100\n",
            "338/338 [==============================] - 10s 31ms/step - loss: 0.5638 - accuracy: 0.8265 - val_loss: 0.1927 - val_accuracy: 0.9358\n"
          ]
        }
      ]
    },
    {
      "cell_type": "code",
      "source": [
        "classifier.evaluate(test_set)"
      ],
      "metadata": {
        "colab": {
          "base_uri": "https://localhost:8080/"
        },
        "id": "_4JSDf_sngoy",
        "outputId": "1954a541-3e2b-4b43-9918-e3b31a308a4f"
      },
      "execution_count": null,
      "outputs": [
        {
          "output_type": "stream",
          "name": "stdout",
          "text": [
            "94/94 [==============================] - 1s 14ms/step - loss: 0.2157 - accuracy: 0.9323\n"
          ]
        },
        {
          "output_type": "execute_result",
          "data": {
            "text/plain": [
              "[0.21566443145275116, 0.9323333501815796]"
            ]
          },
          "metadata": {},
          "execution_count": 25
        }
      ]
    },
    {
      "cell_type": "code",
      "source": [
        "classifier.load_weights('train_weights5.h5')\n",
        "history3=classifier.fit(train_set, steps_per_epoch = len(train_set), epochs = 100,\n",
        "                        validation_data = val_set, validation_steps = len(val_set))\n",
        "classifier.save_weights('train_weights6.h5')"
      ],
      "metadata": {
        "colab": {
          "base_uri": "https://localhost:8080/"
        },
        "id": "9D4m7OMqxnZG",
        "outputId": "bf103f5d-e490-407e-fe4c-6236ad3e8700"
      },
      "execution_count": null,
      "outputs": [
        {
          "output_type": "stream",
          "name": "stdout",
          "text": [
            "Epoch 1/100\n",
            "338/338 [==============================] - 10s 29ms/step - loss: 0.5611 - accuracy: 0.8320 - val_loss: 0.1897 - val_accuracy: 0.9383\n",
            "Epoch 2/100\n",
            "338/338 [==============================] - 11s 33ms/step - loss: 0.5863 - accuracy: 0.8200 - val_loss: 0.1963 - val_accuracy: 0.9383\n",
            "Epoch 3/100\n",
            "338/338 [==============================] - 11s 33ms/step - loss: 0.5781 - accuracy: 0.8295 - val_loss: 0.1981 - val_accuracy: 0.9325\n",
            "Epoch 4/100\n",
            "338/338 [==============================] - 9s 27ms/step - loss: 0.5683 - accuracy: 0.8326 - val_loss: 0.1942 - val_accuracy: 0.9325\n",
            "Epoch 5/100\n",
            "338/338 [==============================] - 11s 31ms/step - loss: 0.5801 - accuracy: 0.8230 - val_loss: 0.1904 - val_accuracy: 0.9383\n",
            "Epoch 6/100\n",
            "338/338 [==============================] - 11s 33ms/step - loss: 0.5768 - accuracy: 0.8240 - val_loss: 0.1921 - val_accuracy: 0.9342\n",
            "Epoch 7/100\n",
            "338/338 [==============================] - 9s 27ms/step - loss: 0.5736 - accuracy: 0.8268 - val_loss: 0.1941 - val_accuracy: 0.9375\n",
            "Epoch 8/100\n",
            "338/338 [==============================] - 10s 31ms/step - loss: 0.5843 - accuracy: 0.8234 - val_loss: 0.2010 - val_accuracy: 0.9300\n",
            "Epoch 9/100\n",
            "338/338 [==============================] - 10s 31ms/step - loss: 0.5613 - accuracy: 0.8306 - val_loss: 0.1969 - val_accuracy: 0.9383\n",
            "Epoch 10/100\n",
            "338/338 [==============================] - 11s 31ms/step - loss: 0.5862 - accuracy: 0.8242 - val_loss: 0.1885 - val_accuracy: 0.9383\n",
            "Epoch 11/100\n",
            "338/338 [==============================] - 10s 31ms/step - loss: 0.5681 - accuracy: 0.8299 - val_loss: 0.1935 - val_accuracy: 0.9375\n",
            "Epoch 12/100\n",
            "338/338 [==============================] - 11s 31ms/step - loss: 0.5775 - accuracy: 0.8271 - val_loss: 0.1884 - val_accuracy: 0.9367\n",
            "Epoch 13/100\n",
            "338/338 [==============================] - 10s 30ms/step - loss: 0.5741 - accuracy: 0.8270 - val_loss: 0.1895 - val_accuracy: 0.9358\n",
            "Epoch 14/100\n",
            "338/338 [==============================] - 9s 28ms/step - loss: 0.5879 - accuracy: 0.8243 - val_loss: 0.1799 - val_accuracy: 0.9400\n",
            "Epoch 15/100\n",
            "338/338 [==============================] - 10s 31ms/step - loss: 0.5735 - accuracy: 0.8301 - val_loss: 0.1841 - val_accuracy: 0.9375\n",
            "Epoch 16/100\n",
            "338/338 [==============================] - 11s 31ms/step - loss: 0.5689 - accuracy: 0.8286 - val_loss: 0.1821 - val_accuracy: 0.9417\n",
            "Epoch 17/100\n",
            "338/338 [==============================] - 9s 27ms/step - loss: 0.5578 - accuracy: 0.8338 - val_loss: 0.1867 - val_accuracy: 0.9367\n",
            "Epoch 18/100\n",
            "338/338 [==============================] - 11s 31ms/step - loss: 0.5837 - accuracy: 0.8257 - val_loss: 0.1831 - val_accuracy: 0.9375\n",
            "Epoch 19/100\n",
            "338/338 [==============================] - 11s 33ms/step - loss: 0.5606 - accuracy: 0.8305 - val_loss: 0.1892 - val_accuracy: 0.9392\n",
            "Epoch 20/100\n",
            "338/338 [==============================] - 10s 30ms/step - loss: 0.5765 - accuracy: 0.8309 - val_loss: 0.1730 - val_accuracy: 0.9433\n",
            "Epoch 21/100\n",
            "338/338 [==============================] - 11s 31ms/step - loss: 0.5520 - accuracy: 0.8295 - val_loss: 0.1754 - val_accuracy: 0.9458\n",
            "Epoch 22/100\n",
            "338/338 [==============================] - 11s 31ms/step - loss: 0.5522 - accuracy: 0.8339 - val_loss: 0.1784 - val_accuracy: 0.9450\n",
            "Epoch 23/100\n",
            "338/338 [==============================] - 10s 29ms/step - loss: 0.5570 - accuracy: 0.8324 - val_loss: 0.1773 - val_accuracy: 0.9417\n",
            "Epoch 24/100\n",
            "338/338 [==============================] - 10s 31ms/step - loss: 0.5566 - accuracy: 0.8353 - val_loss: 0.1758 - val_accuracy: 0.9383\n",
            "Epoch 25/100\n",
            "338/338 [==============================] - 10s 31ms/step - loss: 0.5602 - accuracy: 0.8294 - val_loss: 0.1745 - val_accuracy: 0.9408\n",
            "Epoch 26/100\n",
            "338/338 [==============================] - 9s 27ms/step - loss: 0.5724 - accuracy: 0.8250 - val_loss: 0.1765 - val_accuracy: 0.9400\n",
            "Epoch 27/100\n",
            "338/338 [==============================] - 10s 28ms/step - loss: 0.5732 - accuracy: 0.8285 - val_loss: 0.1858 - val_accuracy: 0.9375\n",
            "Epoch 28/100\n",
            "338/338 [==============================] - 10s 31ms/step - loss: 0.5496 - accuracy: 0.8301 - val_loss: 0.1878 - val_accuracy: 0.9333\n",
            "Epoch 29/100\n",
            "338/338 [==============================] - 10s 29ms/step - loss: 0.5632 - accuracy: 0.8306 - val_loss: 0.1757 - val_accuracy: 0.9425\n",
            "Epoch 30/100\n",
            "338/338 [==============================] - 9s 26ms/step - loss: 0.5697 - accuracy: 0.8283 - val_loss: 0.1820 - val_accuracy: 0.9383\n",
            "Epoch 31/100\n",
            "338/338 [==============================] - 10s 30ms/step - loss: 0.5532 - accuracy: 0.8335 - val_loss: 0.1887 - val_accuracy: 0.9342\n",
            "Epoch 32/100\n",
            "338/338 [==============================] - 10s 30ms/step - loss: 0.5409 - accuracy: 0.8354 - val_loss: 0.1952 - val_accuracy: 0.9308\n",
            "Epoch 33/100\n",
            "338/338 [==============================] - 10s 31ms/step - loss: 0.5611 - accuracy: 0.8296 - val_loss: 0.1782 - val_accuracy: 0.9408\n",
            "Epoch 34/100\n",
            "338/338 [==============================] - 9s 27ms/step - loss: 0.5572 - accuracy: 0.8326 - val_loss: 0.1875 - val_accuracy: 0.9333\n",
            "Epoch 35/100\n",
            "338/338 [==============================] - 10s 30ms/step - loss: 0.5437 - accuracy: 0.8371 - val_loss: 0.1857 - val_accuracy: 0.9408\n",
            "Epoch 36/100\n",
            "338/338 [==============================] - 10s 30ms/step - loss: 0.5614 - accuracy: 0.8289 - val_loss: 0.1871 - val_accuracy: 0.9375\n",
            "Epoch 37/100\n",
            "338/338 [==============================] - 10s 30ms/step - loss: 0.5493 - accuracy: 0.8384 - val_loss: 0.1825 - val_accuracy: 0.9375\n",
            "Epoch 38/100\n",
            "338/338 [==============================] - 10s 29ms/step - loss: 0.5590 - accuracy: 0.8349 - val_loss: 0.1928 - val_accuracy: 0.9342\n",
            "Epoch 39/100\n",
            "338/338 [==============================] - 10s 30ms/step - loss: 0.5642 - accuracy: 0.8328 - val_loss: 0.1949 - val_accuracy: 0.9308\n",
            "Epoch 40/100\n",
            "338/338 [==============================] - 10s 29ms/step - loss: 0.5434 - accuracy: 0.8346 - val_loss: 0.1931 - val_accuracy: 0.9342\n",
            "Epoch 41/100\n",
            "338/338 [==============================] - 10s 29ms/step - loss: 0.5361 - accuracy: 0.8369 - val_loss: 0.1872 - val_accuracy: 0.9375\n",
            "Epoch 42/100\n",
            "338/338 [==============================] - 10s 31ms/step - loss: 0.5575 - accuracy: 0.8330 - val_loss: 0.1830 - val_accuracy: 0.9367\n",
            "Epoch 43/100\n",
            "338/338 [==============================] - 10s 30ms/step - loss: 0.5596 - accuracy: 0.8290 - val_loss: 0.1806 - val_accuracy: 0.9383\n",
            "Epoch 44/100\n",
            "338/338 [==============================] - 10s 30ms/step - loss: 0.5584 - accuracy: 0.8353 - val_loss: 0.1924 - val_accuracy: 0.9325\n",
            "Epoch 45/100\n",
            "338/338 [==============================] - 11s 31ms/step - loss: 0.5436 - accuracy: 0.8389 - val_loss: 0.1826 - val_accuracy: 0.9417\n",
            "Epoch 46/100\n",
            "338/338 [==============================] - 9s 27ms/step - loss: 0.5369 - accuracy: 0.8374 - val_loss: 0.1913 - val_accuracy: 0.9358\n",
            "Epoch 47/100\n",
            "338/338 [==============================] - 10s 30ms/step - loss: 0.5443 - accuracy: 0.8372 - val_loss: 0.1828 - val_accuracy: 0.9417\n",
            "Epoch 48/100\n",
            "338/338 [==============================] - 10s 30ms/step - loss: 0.5520 - accuracy: 0.8328 - val_loss: 0.1879 - val_accuracy: 0.9375\n",
            "Epoch 49/100\n",
            "338/338 [==============================] - 9s 28ms/step - loss: 0.5535 - accuracy: 0.8326 - val_loss: 0.1880 - val_accuracy: 0.9408\n",
            "Epoch 50/100\n",
            "338/338 [==============================] - 9s 27ms/step - loss: 0.5397 - accuracy: 0.8392 - val_loss: 0.1846 - val_accuracy: 0.9383\n",
            "Epoch 51/100\n",
            "338/338 [==============================] - 10s 31ms/step - loss: 0.5538 - accuracy: 0.8342 - val_loss: 0.1868 - val_accuracy: 0.9400\n",
            "Epoch 52/100\n",
            "338/338 [==============================] - 10s 30ms/step - loss: 0.5575 - accuracy: 0.8325 - val_loss: 0.1805 - val_accuracy: 0.9417\n",
            "Epoch 53/100\n",
            "338/338 [==============================] - 10s 31ms/step - loss: 0.5343 - accuracy: 0.8401 - val_loss: 0.1807 - val_accuracy: 0.9417\n",
            "Epoch 54/100\n",
            "338/338 [==============================] - 9s 27ms/step - loss: 0.5536 - accuracy: 0.8344 - val_loss: 0.1837 - val_accuracy: 0.9433\n",
            "Epoch 55/100\n",
            "338/338 [==============================] - 10s 30ms/step - loss: 0.5412 - accuracy: 0.8380 - val_loss: 0.1863 - val_accuracy: 0.9400\n",
            "Epoch 56/100\n",
            "338/338 [==============================] - 10s 30ms/step - loss: 0.5684 - accuracy: 0.8293 - val_loss: 0.1858 - val_accuracy: 0.9383\n",
            "Epoch 57/100\n",
            "338/338 [==============================] - 10s 31ms/step - loss: 0.5523 - accuracy: 0.8329 - val_loss: 0.1922 - val_accuracy: 0.9350\n",
            "Epoch 58/100\n",
            "338/338 [==============================] - 9s 27ms/step - loss: 0.5403 - accuracy: 0.8382 - val_loss: 0.1904 - val_accuracy: 0.9358\n",
            "Epoch 59/100\n",
            "338/338 [==============================] - 10s 30ms/step - loss: 0.5340 - accuracy: 0.8402 - val_loss: 0.1851 - val_accuracy: 0.9383\n",
            "Epoch 60/100\n",
            "338/338 [==============================] - 10s 30ms/step - loss: 0.5398 - accuracy: 0.8328 - val_loss: 0.1900 - val_accuracy: 0.9383\n",
            "Epoch 61/100\n",
            "338/338 [==============================] - 10s 30ms/step - loss: 0.5364 - accuracy: 0.8377 - val_loss: 0.1843 - val_accuracy: 0.9417\n",
            "Epoch 62/100\n",
            "338/338 [==============================] - 10s 30ms/step - loss: 0.5289 - accuracy: 0.8445 - val_loss: 0.1857 - val_accuracy: 0.9442\n",
            "Epoch 63/100\n",
            "338/338 [==============================] - 9s 28ms/step - loss: 0.5448 - accuracy: 0.8361 - val_loss: 0.1845 - val_accuracy: 0.9383\n",
            "Epoch 64/100\n",
            "338/338 [==============================] - 10s 30ms/step - loss: 0.5393 - accuracy: 0.8400 - val_loss: 0.1805 - val_accuracy: 0.9442\n",
            "Epoch 65/100\n",
            "338/338 [==============================] - 10s 30ms/step - loss: 0.5451 - accuracy: 0.8350 - val_loss: 0.1887 - val_accuracy: 0.9425\n",
            "Epoch 66/100\n",
            "338/338 [==============================] - 10s 30ms/step - loss: 0.5422 - accuracy: 0.8383 - val_loss: 0.1897 - val_accuracy: 0.9392\n",
            "Epoch 67/100\n",
            "338/338 [==============================] - 11s 33ms/step - loss: 0.5362 - accuracy: 0.8409 - val_loss: 0.1885 - val_accuracy: 0.9400\n",
            "Epoch 68/100\n",
            "338/338 [==============================] - 10s 29ms/step - loss: 0.5395 - accuracy: 0.8385 - val_loss: 0.1901 - val_accuracy: 0.9358\n",
            "Epoch 69/100\n",
            "338/338 [==============================] - 10s 31ms/step - loss: 0.5363 - accuracy: 0.8417 - val_loss: 0.1781 - val_accuracy: 0.9417\n",
            "Epoch 70/100\n",
            "338/338 [==============================] - 10s 30ms/step - loss: 0.5357 - accuracy: 0.8403 - val_loss: 0.1816 - val_accuracy: 0.9375\n",
            "Epoch 71/100\n",
            "338/338 [==============================] - 10s 30ms/step - loss: 0.5529 - accuracy: 0.8339 - val_loss: 0.1835 - val_accuracy: 0.9442\n",
            "Epoch 72/100\n",
            "338/338 [==============================] - 10s 31ms/step - loss: 0.5416 - accuracy: 0.8369 - val_loss: 0.1813 - val_accuracy: 0.9425\n",
            "Epoch 73/100\n",
            "338/338 [==============================] - 10s 30ms/step - loss: 0.5418 - accuracy: 0.8381 - val_loss: 0.1923 - val_accuracy: 0.9358\n",
            "Epoch 74/100\n",
            "338/338 [==============================] - 10s 29ms/step - loss: 0.5438 - accuracy: 0.8406 - val_loss: 0.1854 - val_accuracy: 0.9417\n",
            "Epoch 75/100\n",
            "338/338 [==============================] - 10s 29ms/step - loss: 0.5245 - accuracy: 0.8423 - val_loss: 0.1860 - val_accuracy: 0.9342\n",
            "Epoch 76/100\n",
            "338/338 [==============================] - 11s 31ms/step - loss: 0.5358 - accuracy: 0.8384 - val_loss: 0.1799 - val_accuracy: 0.9425\n",
            "Epoch 77/100\n",
            "338/338 [==============================] - 11s 32ms/step - loss: 0.5422 - accuracy: 0.8413 - val_loss: 0.1822 - val_accuracy: 0.9392\n",
            "Epoch 78/100\n",
            "338/338 [==============================] - 10s 31ms/step - loss: 0.5186 - accuracy: 0.8404 - val_loss: 0.1829 - val_accuracy: 0.9350\n",
            "Epoch 79/100\n",
            "338/338 [==============================] - 10s 29ms/step - loss: 0.5438 - accuracy: 0.8376 - val_loss: 0.1891 - val_accuracy: 0.9383\n",
            "Epoch 80/100\n",
            "338/338 [==============================] - 11s 31ms/step - loss: 0.5387 - accuracy: 0.8388 - val_loss: 0.1807 - val_accuracy: 0.9392\n",
            "Epoch 81/100\n",
            "338/338 [==============================] - 11s 31ms/step - loss: 0.5278 - accuracy: 0.8414 - val_loss: 0.1815 - val_accuracy: 0.9417\n",
            "Epoch 82/100\n",
            "338/338 [==============================] - 9s 28ms/step - loss: 0.5284 - accuracy: 0.8449 - val_loss: 0.1840 - val_accuracy: 0.9367\n",
            "Epoch 83/100\n",
            "338/338 [==============================] - 10s 29ms/step - loss: 0.5252 - accuracy: 0.8411 - val_loss: 0.1862 - val_accuracy: 0.9375\n",
            "Epoch 84/100\n",
            "338/338 [==============================] - 10s 31ms/step - loss: 0.5161 - accuracy: 0.8448 - val_loss: 0.1894 - val_accuracy: 0.9383\n",
            "Epoch 85/100\n",
            "338/338 [==============================] - 10s 31ms/step - loss: 0.5230 - accuracy: 0.8423 - val_loss: 0.1855 - val_accuracy: 0.9367\n",
            "Epoch 86/100\n",
            "338/338 [==============================] - 9s 28ms/step - loss: 0.5448 - accuracy: 0.8352 - val_loss: 0.1848 - val_accuracy: 0.9350\n",
            "Epoch 87/100\n",
            "338/338 [==============================] - 11s 32ms/step - loss: 0.5176 - accuracy: 0.8451 - val_loss: 0.1881 - val_accuracy: 0.9375\n",
            "Epoch 88/100\n",
            "338/338 [==============================] - 10s 31ms/step - loss: 0.5252 - accuracy: 0.8444 - val_loss: 0.1797 - val_accuracy: 0.9367\n",
            "Epoch 89/100\n",
            "338/338 [==============================] - 10s 31ms/step - loss: 0.5295 - accuracy: 0.8356 - val_loss: 0.1801 - val_accuracy: 0.9425\n",
            "Epoch 90/100\n",
            "338/338 [==============================] - 11s 32ms/step - loss: 0.5118 - accuracy: 0.8465 - val_loss: 0.1822 - val_accuracy: 0.9375\n",
            "Epoch 91/100\n",
            "338/338 [==============================] - 9s 27ms/step - loss: 0.5192 - accuracy: 0.8382 - val_loss: 0.1833 - val_accuracy: 0.9408\n",
            "Epoch 92/100\n",
            "338/338 [==============================] - 10s 30ms/step - loss: 0.5102 - accuracy: 0.8415 - val_loss: 0.1804 - val_accuracy: 0.9408\n",
            "Epoch 93/100\n",
            "338/338 [==============================] - 10s 31ms/step - loss: 0.5374 - accuracy: 0.8405 - val_loss: 0.1875 - val_accuracy: 0.9342\n",
            "Epoch 94/100\n",
            "338/338 [==============================] - 10s 30ms/step - loss: 0.5276 - accuracy: 0.8411 - val_loss: 0.1769 - val_accuracy: 0.9342\n",
            "Epoch 95/100\n",
            "338/338 [==============================] - 10s 30ms/step - loss: 0.5199 - accuracy: 0.8436 - val_loss: 0.1861 - val_accuracy: 0.9350\n",
            "Epoch 96/100\n",
            "338/338 [==============================] - 10s 28ms/step - loss: 0.5219 - accuracy: 0.8410 - val_loss: 0.1903 - val_accuracy: 0.9350\n",
            "Epoch 97/100\n",
            "338/338 [==============================] - 11s 31ms/step - loss: 0.5187 - accuracy: 0.8437 - val_loss: 0.1807 - val_accuracy: 0.9417\n",
            "Epoch 98/100\n",
            "338/338 [==============================] - 10s 30ms/step - loss: 0.5321 - accuracy: 0.8357 - val_loss: 0.1896 - val_accuracy: 0.9367\n",
            "Epoch 99/100\n",
            "338/338 [==============================] - 10s 31ms/step - loss: 0.5323 - accuracy: 0.8409 - val_loss: 0.1825 - val_accuracy: 0.9400\n",
            "Epoch 100/100\n",
            "338/338 [==============================] - 10s 30ms/step - loss: 0.5249 - accuracy: 0.8419 - val_loss: 0.1820 - val_accuracy: 0.9392\n"
          ]
        }
      ]
    },
    {
      "cell_type": "code",
      "source": [
        "classifier.evaluate(test_set)"
      ],
      "metadata": {
        "colab": {
          "base_uri": "https://localhost:8080/"
        },
        "id": "rEpay9sTxn6i",
        "outputId": "fc341ad9-262e-4d89-ff25-3f2b220cf68e"
      },
      "execution_count": null,
      "outputs": [
        {
          "output_type": "stream",
          "name": "stdout",
          "text": [
            "94/94 [==============================] - 1s 15ms/step - loss: 0.1797 - accuracy: 0.9413\n"
          ]
        },
        {
          "output_type": "execute_result",
          "data": {
            "text/plain": [
              "[0.17972849309444427, 0.9413333535194397]"
            ]
          },
          "metadata": {},
          "execution_count": 27
        }
      ]
    },
    {
      "cell_type": "code",
      "source": [
        "classifier.load_weights('train_weights6.h5')\n",
        "history4=classifier.fit(train_set, steps_per_epoch = len(train_set), epochs = 100,\n",
        "                        validation_data = val_set, validation_steps = len(val_set))\n",
        "classifier.save_weights('train_weights5.h5')"
      ],
      "metadata": {
        "colab": {
          "base_uri": "https://localhost:8080/"
        },
        "id": "cJDtUWGaxog5",
        "outputId": "06a4783f-5a89-4635-a4d7-bfbf7e143cd3"
      },
      "execution_count": null,
      "outputs": [
        {
          "output_type": "stream",
          "name": "stdout",
          "text": [
            "Epoch 1/100\n",
            "338/338 [==============================] - 10s 31ms/step - loss: 0.5280 - accuracy: 0.8413 - val_loss: 0.1870 - val_accuracy: 0.9417\n",
            "Epoch 2/100\n",
            "338/338 [==============================] - 9s 27ms/step - loss: 0.5121 - accuracy: 0.8464 - val_loss: 0.1844 - val_accuracy: 0.9383\n",
            "Epoch 3/100\n",
            "338/338 [==============================] - 10s 30ms/step - loss: 0.5018 - accuracy: 0.8515 - val_loss: 0.1889 - val_accuracy: 0.9375\n",
            "Epoch 4/100\n",
            "338/338 [==============================] - 11s 31ms/step - loss: 0.5142 - accuracy: 0.8441 - val_loss: 0.1837 - val_accuracy: 0.9400\n",
            "Epoch 5/100\n",
            "338/338 [==============================] - 10s 31ms/step - loss: 0.5333 - accuracy: 0.8403 - val_loss: 0.1837 - val_accuracy: 0.9400\n",
            "Epoch 6/100\n",
            "338/338 [==============================] - 9s 27ms/step - loss: 0.5058 - accuracy: 0.8457 - val_loss: 0.1799 - val_accuracy: 0.9417\n",
            "Epoch 7/100\n",
            "338/338 [==============================] - 11s 32ms/step - loss: 0.5133 - accuracy: 0.8438 - val_loss: 0.1761 - val_accuracy: 0.9425\n",
            "Epoch 8/100\n",
            "338/338 [==============================] - 11s 34ms/step - loss: 0.5233 - accuracy: 0.8443 - val_loss: 0.1753 - val_accuracy: 0.9375\n",
            "Epoch 9/100\n",
            "338/338 [==============================] - 10s 30ms/step - loss: 0.5121 - accuracy: 0.8451 - val_loss: 0.1803 - val_accuracy: 0.9367\n",
            "Epoch 10/100\n",
            "338/338 [==============================] - 11s 31ms/step - loss: 0.5255 - accuracy: 0.8452 - val_loss: 0.1806 - val_accuracy: 0.9433\n",
            "Epoch 11/100\n",
            "338/338 [==============================] - 11s 31ms/step - loss: 0.5232 - accuracy: 0.8438 - val_loss: 0.1721 - val_accuracy: 0.9425\n",
            "Epoch 12/100\n",
            "338/338 [==============================] - 9s 26ms/step - loss: 0.5220 - accuracy: 0.8438 - val_loss: 0.1745 - val_accuracy: 0.9392\n",
            "Epoch 13/100\n",
            "338/338 [==============================] - 10s 30ms/step - loss: 0.5129 - accuracy: 0.8455 - val_loss: 0.1790 - val_accuracy: 0.9375\n",
            "Epoch 14/100\n",
            "338/338 [==============================] - 11s 32ms/step - loss: 0.5153 - accuracy: 0.8406 - val_loss: 0.1820 - val_accuracy: 0.9400\n",
            "Epoch 15/100\n",
            "338/338 [==============================] - 10s 29ms/step - loss: 0.5030 - accuracy: 0.8474 - val_loss: 0.1764 - val_accuracy: 0.9425\n",
            "Epoch 16/100\n",
            "338/338 [==============================] - 10s 28ms/step - loss: 0.5134 - accuracy: 0.8462 - val_loss: 0.1750 - val_accuracy: 0.9417\n",
            "Epoch 17/100\n",
            "338/338 [==============================] - 10s 31ms/step - loss: 0.5119 - accuracy: 0.8445 - val_loss: 0.1787 - val_accuracy: 0.9400\n",
            "Epoch 18/100\n",
            "338/338 [==============================] - 11s 32ms/step - loss: 0.5026 - accuracy: 0.8468 - val_loss: 0.1688 - val_accuracy: 0.9417\n",
            "Epoch 19/100\n",
            "338/338 [==============================] - 11s 31ms/step - loss: 0.5125 - accuracy: 0.8483 - val_loss: 0.1775 - val_accuracy: 0.9450\n",
            "Epoch 20/100\n",
            "338/338 [==============================] - 11s 32ms/step - loss: 0.5044 - accuracy: 0.8488 - val_loss: 0.1778 - val_accuracy: 0.9458\n",
            "Epoch 21/100\n",
            "338/338 [==============================] - 11s 31ms/step - loss: 0.5066 - accuracy: 0.8459 - val_loss: 0.1669 - val_accuracy: 0.9450\n",
            "Epoch 22/100\n",
            "338/338 [==============================] - 11s 32ms/step - loss: 0.5098 - accuracy: 0.8469 - val_loss: 0.1676 - val_accuracy: 0.9467\n",
            "Epoch 23/100\n",
            "338/338 [==============================] - 10s 31ms/step - loss: 0.5266 - accuracy: 0.8433 - val_loss: 0.1710 - val_accuracy: 0.9467\n",
            "Epoch 24/100\n",
            "338/338 [==============================] - 9s 26ms/step - loss: 0.4943 - accuracy: 0.8511 - val_loss: 0.1655 - val_accuracy: 0.9400\n",
            "Epoch 25/100\n",
            "338/338 [==============================] - 10s 31ms/step - loss: 0.5049 - accuracy: 0.8440 - val_loss: 0.1736 - val_accuracy: 0.9400\n",
            "Epoch 26/100\n",
            "338/338 [==============================] - 10s 31ms/step - loss: 0.5126 - accuracy: 0.8465 - val_loss: 0.1766 - val_accuracy: 0.9383\n",
            "Epoch 27/100\n",
            "338/338 [==============================] - 10s 30ms/step - loss: 0.5046 - accuracy: 0.8481 - val_loss: 0.1739 - val_accuracy: 0.9367\n",
            "Epoch 28/100\n",
            "338/338 [==============================] - 10s 31ms/step - loss: 0.5169 - accuracy: 0.8460 - val_loss: 0.1724 - val_accuracy: 0.9417\n",
            "Epoch 29/100\n",
            "338/338 [==============================] - 11s 32ms/step - loss: 0.5148 - accuracy: 0.8444 - val_loss: 0.1700 - val_accuracy: 0.9408\n",
            "Epoch 30/100\n",
            "338/338 [==============================] - 9s 27ms/step - loss: 0.5059 - accuracy: 0.8496 - val_loss: 0.1732 - val_accuracy: 0.9375\n",
            "Epoch 31/100\n",
            "338/338 [==============================] - 10s 30ms/step - loss: 0.5072 - accuracy: 0.8461 - val_loss: 0.1673 - val_accuracy: 0.9358\n",
            "Epoch 32/100\n",
            "338/338 [==============================] - 11s 31ms/step - loss: 0.5056 - accuracy: 0.8467 - val_loss: 0.1711 - val_accuracy: 0.9467\n",
            "Epoch 33/100\n",
            "338/338 [==============================] - 11s 31ms/step - loss: 0.5075 - accuracy: 0.8506 - val_loss: 0.1752 - val_accuracy: 0.9375\n",
            "Epoch 34/100\n",
            "338/338 [==============================] - 10s 30ms/step - loss: 0.5059 - accuracy: 0.8441 - val_loss: 0.1788 - val_accuracy: 0.9400\n",
            "Epoch 35/100\n",
            "338/338 [==============================] - 11s 32ms/step - loss: 0.5089 - accuracy: 0.8459 - val_loss: 0.1728 - val_accuracy: 0.9425\n",
            "Epoch 36/100\n",
            "338/338 [==============================] - 11s 31ms/step - loss: 0.5184 - accuracy: 0.8462 - val_loss: 0.1774 - val_accuracy: 0.9375\n",
            "Epoch 37/100\n",
            "338/338 [==============================] - 11s 31ms/step - loss: 0.5055 - accuracy: 0.8506 - val_loss: 0.1739 - val_accuracy: 0.9408\n",
            "Epoch 38/100\n",
            "338/338 [==============================] - 11s 31ms/step - loss: 0.4982 - accuracy: 0.8471 - val_loss: 0.1809 - val_accuracy: 0.9375\n",
            "Epoch 39/100\n",
            "338/338 [==============================] - 9s 27ms/step - loss: 0.4965 - accuracy: 0.8508 - val_loss: 0.1827 - val_accuracy: 0.9400\n",
            "Epoch 40/100\n",
            "338/338 [==============================] - 10s 31ms/step - loss: 0.4889 - accuracy: 0.8541 - val_loss: 0.1748 - val_accuracy: 0.9425\n",
            "Epoch 41/100\n",
            "338/338 [==============================] - 10s 31ms/step - loss: 0.4911 - accuracy: 0.8510 - val_loss: 0.1809 - val_accuracy: 0.9433\n",
            "Epoch 42/100\n",
            "338/338 [==============================] - 11s 32ms/step - loss: 0.5181 - accuracy: 0.8484 - val_loss: 0.1781 - val_accuracy: 0.9417\n",
            "Epoch 43/100\n",
            "338/338 [==============================] - 9s 27ms/step - loss: 0.5102 - accuracy: 0.8446 - val_loss: 0.1754 - val_accuracy: 0.9408\n",
            "Epoch 44/100\n",
            "338/338 [==============================] - 11s 31ms/step - loss: 0.4890 - accuracy: 0.8533 - val_loss: 0.1771 - val_accuracy: 0.9425\n",
            "Epoch 45/100\n",
            "338/338 [==============================] - 11s 31ms/step - loss: 0.5017 - accuracy: 0.8516 - val_loss: 0.1725 - val_accuracy: 0.9458\n",
            "Epoch 46/100\n",
            "338/338 [==============================] - 11s 31ms/step - loss: 0.5031 - accuracy: 0.8521 - val_loss: 0.1732 - val_accuracy: 0.9467\n",
            "Epoch 47/100\n",
            "338/338 [==============================] - 10s 31ms/step - loss: 0.4978 - accuracy: 0.8532 - val_loss: 0.1804 - val_accuracy: 0.9400\n",
            "Epoch 48/100\n",
            "338/338 [==============================] - 10s 31ms/step - loss: 0.5034 - accuracy: 0.8499 - val_loss: 0.1753 - val_accuracy: 0.9408\n",
            "Epoch 49/100\n",
            "338/338 [==============================] - 9s 27ms/step - loss: 0.5033 - accuracy: 0.8494 - val_loss: 0.1810 - val_accuracy: 0.9392\n",
            "Epoch 50/100\n",
            "338/338 [==============================] - 11s 31ms/step - loss: 0.4851 - accuracy: 0.8522 - val_loss: 0.1802 - val_accuracy: 0.9408\n",
            "Epoch 51/100\n",
            "338/338 [==============================] - 11s 31ms/step - loss: 0.4920 - accuracy: 0.8511 - val_loss: 0.1768 - val_accuracy: 0.9450\n",
            "Epoch 52/100\n",
            "338/338 [==============================] - 10s 31ms/step - loss: 0.5069 - accuracy: 0.8464 - val_loss: 0.1725 - val_accuracy: 0.9425\n",
            "Epoch 53/100\n",
            "338/338 [==============================] - 9s 28ms/step - loss: 0.5088 - accuracy: 0.8464 - val_loss: 0.1783 - val_accuracy: 0.9442\n",
            "Epoch 54/100\n",
            "338/338 [==============================] - 11s 31ms/step - loss: 0.5096 - accuracy: 0.8469 - val_loss: 0.1831 - val_accuracy: 0.9367\n",
            "Epoch 55/100\n",
            "338/338 [==============================] - 11s 31ms/step - loss: 0.4966 - accuracy: 0.8519 - val_loss: 0.1756 - val_accuracy: 0.9375\n",
            "Epoch 56/100\n",
            "338/338 [==============================] - 10s 31ms/step - loss: 0.4990 - accuracy: 0.8488 - val_loss: 0.1705 - val_accuracy: 0.9417\n",
            "Epoch 57/100\n",
            "338/338 [==============================] - 11s 32ms/step - loss: 0.5047 - accuracy: 0.8482 - val_loss: 0.1679 - val_accuracy: 0.9417\n",
            "Epoch 58/100\n",
            "338/338 [==============================] - 11s 31ms/step - loss: 0.5126 - accuracy: 0.8490 - val_loss: 0.1753 - val_accuracy: 0.9458\n",
            "Epoch 59/100\n",
            "338/338 [==============================] - 9s 27ms/step - loss: 0.5065 - accuracy: 0.8464 - val_loss: 0.1708 - val_accuracy: 0.9433\n",
            "Epoch 60/100\n",
            "338/338 [==============================] - 11s 32ms/step - loss: 0.5138 - accuracy: 0.8434 - val_loss: 0.1645 - val_accuracy: 0.9433\n",
            "Epoch 61/100\n",
            "338/338 [==============================] - 11s 33ms/step - loss: 0.5061 - accuracy: 0.8460 - val_loss: 0.1690 - val_accuracy: 0.9425\n",
            "Epoch 62/100\n",
            "338/338 [==============================] - 9s 27ms/step - loss: 0.4927 - accuracy: 0.8535 - val_loss: 0.1728 - val_accuracy: 0.9467\n",
            "Epoch 63/100\n",
            "338/338 [==============================] - 10s 29ms/step - loss: 0.4991 - accuracy: 0.8539 - val_loss: 0.1703 - val_accuracy: 0.9433\n",
            "Epoch 64/100\n",
            "338/338 [==============================] - 11s 31ms/step - loss: 0.5007 - accuracy: 0.8531 - val_loss: 0.1735 - val_accuracy: 0.9400\n",
            "Epoch 65/100\n",
            "338/338 [==============================] - 10s 31ms/step - loss: 0.4817 - accuracy: 0.8584 - val_loss: 0.1725 - val_accuracy: 0.9442\n",
            "Epoch 66/100\n",
            "338/338 [==============================] - 9s 26ms/step - loss: 0.4990 - accuracy: 0.8519 - val_loss: 0.1785 - val_accuracy: 0.9433\n",
            "Epoch 67/100\n",
            "338/338 [==============================] - 10s 29ms/step - loss: 0.4872 - accuracy: 0.8536 - val_loss: 0.1761 - val_accuracy: 0.9417\n",
            "Epoch 68/100\n",
            "338/338 [==============================] - 11s 32ms/step - loss: 0.5047 - accuracy: 0.8482 - val_loss: 0.1626 - val_accuracy: 0.9450\n",
            "Epoch 69/100\n",
            "338/338 [==============================] - 11s 32ms/step - loss: 0.4919 - accuracy: 0.8548 - val_loss: 0.1737 - val_accuracy: 0.9417\n",
            "Epoch 70/100\n",
            "338/338 [==============================] - 10s 30ms/step - loss: 0.4864 - accuracy: 0.8545 - val_loss: 0.1691 - val_accuracy: 0.9425\n",
            "Epoch 71/100\n",
            "338/338 [==============================] - 10s 31ms/step - loss: 0.4863 - accuracy: 0.8546 - val_loss: 0.1619 - val_accuracy: 0.9450\n",
            "Epoch 72/100\n",
            "338/338 [==============================] - 10s 31ms/step - loss: 0.4713 - accuracy: 0.8540 - val_loss: 0.1678 - val_accuracy: 0.9492\n",
            "Epoch 73/100\n",
            "338/338 [==============================] - 11s 32ms/step - loss: 0.5054 - accuracy: 0.8534 - val_loss: 0.1730 - val_accuracy: 0.9442\n",
            "Epoch 74/100\n",
            "338/338 [==============================] - 14s 42ms/step - loss: 0.5006 - accuracy: 0.8508 - val_loss: 0.1604 - val_accuracy: 0.9450\n",
            "Epoch 75/100\n",
            "338/338 [==============================] - 13s 38ms/step - loss: 0.4875 - accuracy: 0.8544 - val_loss: 0.1620 - val_accuracy: 0.9433\n",
            "Epoch 76/100\n",
            "338/338 [==============================] - 12s 35ms/step - loss: 0.4870 - accuracy: 0.8568 - val_loss: 0.1710 - val_accuracy: 0.9408\n",
            "Epoch 77/100\n",
            "338/338 [==============================] - 10s 30ms/step - loss: 0.4773 - accuracy: 0.8581 - val_loss: 0.1665 - val_accuracy: 0.9433\n",
            "Epoch 78/100\n",
            "338/338 [==============================] - 9s 27ms/step - loss: 0.4833 - accuracy: 0.8535 - val_loss: 0.1634 - val_accuracy: 0.9425\n",
            "Epoch 79/100\n",
            "338/338 [==============================] - 10s 31ms/step - loss: 0.5023 - accuracy: 0.8482 - val_loss: 0.1764 - val_accuracy: 0.9383\n",
            "Epoch 80/100\n",
            "338/338 [==============================] - 11s 31ms/step - loss: 0.4830 - accuracy: 0.8596 - val_loss: 0.1651 - val_accuracy: 0.9433\n",
            "Epoch 81/100\n",
            "338/338 [==============================] - 12s 37ms/step - loss: 0.4934 - accuracy: 0.8514 - val_loss: 0.1661 - val_accuracy: 0.9425\n",
            "Epoch 82/100\n",
            "338/338 [==============================] - 11s 31ms/step - loss: 0.4751 - accuracy: 0.8590 - val_loss: 0.1628 - val_accuracy: 0.9450\n",
            "Epoch 83/100\n",
            "338/338 [==============================] - 10s 30ms/step - loss: 0.4891 - accuracy: 0.8546 - val_loss: 0.1649 - val_accuracy: 0.9467\n",
            "Epoch 84/100\n",
            "338/338 [==============================] - 11s 31ms/step - loss: 0.4976 - accuracy: 0.8525 - val_loss: 0.1622 - val_accuracy: 0.9475\n",
            "Epoch 85/100\n",
            "338/338 [==============================] - 9s 28ms/step - loss: 0.4981 - accuracy: 0.8501 - val_loss: 0.1673 - val_accuracy: 0.9433\n",
            "Epoch 86/100\n",
            "338/338 [==============================] - 10s 30ms/step - loss: 0.4792 - accuracy: 0.8575 - val_loss: 0.1586 - val_accuracy: 0.9442\n",
            "Epoch 87/100\n",
            "338/338 [==============================] - 11s 32ms/step - loss: 0.4805 - accuracy: 0.8577 - val_loss: 0.1609 - val_accuracy: 0.9425\n",
            "Epoch 88/100\n",
            "338/338 [==============================] - 10s 29ms/step - loss: 0.4824 - accuracy: 0.8542 - val_loss: 0.1589 - val_accuracy: 0.9475\n",
            "Epoch 89/100\n",
            "338/338 [==============================] - 10s 29ms/step - loss: 0.5002 - accuracy: 0.8511 - val_loss: 0.1636 - val_accuracy: 0.9458\n",
            "Epoch 90/100\n",
            "338/338 [==============================] - 10s 31ms/step - loss: 0.4771 - accuracy: 0.8546 - val_loss: 0.1611 - val_accuracy: 0.9442\n",
            "Epoch 91/100\n",
            "338/338 [==============================] - 10s 31ms/step - loss: 0.4798 - accuracy: 0.8548 - val_loss: 0.1567 - val_accuracy: 0.9492\n",
            "Epoch 92/100\n",
            "338/338 [==============================] - 9s 26ms/step - loss: 0.4949 - accuracy: 0.8519 - val_loss: 0.1551 - val_accuracy: 0.9508\n",
            "Epoch 93/100\n",
            "338/338 [==============================] - 10s 29ms/step - loss: 0.4776 - accuracy: 0.8616 - val_loss: 0.1622 - val_accuracy: 0.9458\n",
            "Epoch 94/100\n",
            "338/338 [==============================] - 10s 31ms/step - loss: 0.4733 - accuracy: 0.8583 - val_loss: 0.1583 - val_accuracy: 0.9467\n",
            "Epoch 95/100\n",
            "338/338 [==============================] - 11s 31ms/step - loss: 0.4856 - accuracy: 0.8525 - val_loss: 0.1654 - val_accuracy: 0.9517\n",
            "Epoch 96/100\n",
            "338/338 [==============================] - 10s 29ms/step - loss: 0.4829 - accuracy: 0.8585 - val_loss: 0.1561 - val_accuracy: 0.9492\n",
            "Epoch 97/100\n",
            "338/338 [==============================] - 11s 32ms/step - loss: 0.4712 - accuracy: 0.8594 - val_loss: 0.1570 - val_accuracy: 0.9500\n",
            "Epoch 98/100\n",
            "338/338 [==============================] - 10s 31ms/step - loss: 0.4917 - accuracy: 0.8540 - val_loss: 0.1538 - val_accuracy: 0.9517\n",
            "Epoch 99/100\n",
            "338/338 [==============================] - 10s 30ms/step - loss: 0.4766 - accuracy: 0.8557 - val_loss: 0.1599 - val_accuracy: 0.9492\n",
            "Epoch 100/100\n",
            "338/338 [==============================] - 11s 31ms/step - loss: 0.4756 - accuracy: 0.8529 - val_loss: 0.1568 - val_accuracy: 0.9533\n"
          ]
        }
      ]
    },
    {
      "cell_type": "code",
      "source": [],
      "metadata": {
        "id": "fPwWyR6jxo92"
      },
      "execution_count": null,
      "outputs": []
    },
    {
      "cell_type": "code",
      "source": [],
      "metadata": {
        "id": "1gbRFB9CxpbH"
      },
      "execution_count": null,
      "outputs": []
    },
    {
      "cell_type": "code",
      "source": [],
      "metadata": {
        "id": "v1FfT-Odxp6M"
      },
      "execution_count": null,
      "outputs": []
    }
  ]
}