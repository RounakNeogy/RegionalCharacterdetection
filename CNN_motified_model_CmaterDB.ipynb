{
  "nbformat": 4,
  "nbformat_minor": 0,
  "metadata": {
    "colab": {
      "provenance": [],
      "authorship_tag": "ABX9TyNOUDApF+5rx/fkC7w9mVlk",
      "include_colab_link": true
    },
    "kernelspec": {
      "name": "python3",
      "display_name": "Python 3"
    },
    "language_info": {
      "name": "python"
    },
    "accelerator": "GPU",
    "gpuClass": "standard"
  },
  "cells": [
    {
      "cell_type": "markdown",
      "metadata": {
        "id": "view-in-github",
        "colab_type": "text"
      },
      "source": [
        "<a href=\"https://colab.research.google.com/github/RounakNeogy/RegionalCharacterdetection/blob/main/CNN_motified_model_CmaterDB.ipynb\" target=\"_parent\"><img src=\"https://colab.research.google.com/assets/colab-badge.svg\" alt=\"Open In Colab\"/></a>"
      ]
    },
    {
      "cell_type": "code",
      "execution_count": 1,
      "metadata": {
        "colab": {
          "base_uri": "https://localhost:8080/"
        },
        "id": "oEl7aUp94w3_",
        "outputId": "7d4df97e-7e5c-4bc9-81de-54d5b7ce5bee"
      },
      "outputs": [
        {
          "output_type": "stream",
          "name": "stdout",
          "text": [
            "Mounted at /content/drive\n"
          ]
        }
      ],
      "source": [
        "from google.colab import drive\n",
        "drive.mount('/content/drive')"
      ]
    },
    {
      "cell_type": "code",
      "source": [
        "!unzip drive/MyDrive/Dataset.zip> /dev/null"
      ],
      "metadata": {
        "id": "h1elc98h5_ck"
      },
      "execution_count": 2,
      "outputs": []
    },
    {
      "cell_type": "code",
      "source": [
        "from keras.models import Sequential\n",
        "from keras.layers import Conv2D, MaxPooling2D, Flatten, Dense, Dropout"
      ],
      "metadata": {
        "id": "KvI6BCXx6bKo"
      },
      "execution_count": 3,
      "outputs": []
    },
    {
      "cell_type": "code",
      "source": [
        "classifier = Sequential()\n",
        "\n",
        "classifier.add(Conv2D(filters = 32, kernel_size = (3, 3), strides = (1,1), padding = \"same\", activation = 'relu', input_shape = (28, 28, 1)))\n",
        "classifier.add(MaxPooling2D(pool_size = (2, 2), padding = \"valid\"))\n",
        "# classifier.add(Dropout(.2))\n",
        "\n",
        "classifier.add(Conv2D(filters = 64, kernel_size = (3, 3), strides = (1,1), padding = \"same\", activation = 'relu'))\n",
        "classifier.add(MaxPooling2D(pool_size = (2, 2), padding = \"valid\"))\n",
        "# classifier.add(Dropout(.2))\n",
        "\n",
        "classifier.add(Conv2D(filters = 128, kernel_size = (3, 3), strides = (1,1), padding = \"same\", activation = 'relu'))\n",
        "classifier.add(MaxPooling2D(pool_size = (2, 2), padding = \"valid\"))\n",
        "# classifier.add(Dropout(.2))\n",
        "\n",
        "classifier.add(Flatten())\n",
        "\n",
        "classifier.add(Dense(units = 128, activation = 'relu'))\n",
        "# classifier.add(Dropout(.2))\n",
        "\n",
        "classifier.add(Dense(units = 64, activation = 'relu'))\n",
        "# classifier.add(Dropout(.2))\n",
        "\n",
        "classifier.add(Dense(units = 50, activation = 'softmax'))\n",
        "\n",
        "classifier.compile(optimizer = 'adam', loss = 'categorical_crossentropy', metrics = ['accuracy'])"
      ],
      "metadata": {
        "id": "Rjy9ib4X7KXY"
      },
      "execution_count": 10,
      "outputs": []
    },
    {
      "cell_type": "code",
      "source": [
        "classifier.summary()"
      ],
      "metadata": {
        "colab": {
          "base_uri": "https://localhost:8080/"
        },
        "id": "5bibs1YW7hgC",
        "outputId": "519686fc-4ea2-44dd-98db-411f60169ffd"
      },
      "execution_count": 11,
      "outputs": [
        {
          "output_type": "stream",
          "name": "stdout",
          "text": [
            "Model: \"sequential_1\"\n",
            "_________________________________________________________________\n",
            " Layer (type)                Output Shape              Param #   \n",
            "=================================================================\n",
            " conv2d_3 (Conv2D)           (None, 28, 28, 32)        320       \n",
            "                                                                 \n",
            " max_pooling2d_3 (MaxPooling  (None, 14, 14, 32)       0         \n",
            " 2D)                                                             \n",
            "                                                                 \n",
            " conv2d_4 (Conv2D)           (None, 14, 14, 64)        18496     \n",
            "                                                                 \n",
            " max_pooling2d_4 (MaxPooling  (None, 7, 7, 64)         0         \n",
            " 2D)                                                             \n",
            "                                                                 \n",
            " conv2d_5 (Conv2D)           (None, 7, 7, 128)         73856     \n",
            "                                                                 \n",
            " max_pooling2d_5 (MaxPooling  (None, 3, 3, 128)        0         \n",
            " 2D)                                                             \n",
            "                                                                 \n",
            " flatten_1 (Flatten)         (None, 1152)              0         \n",
            "                                                                 \n",
            " dense_3 (Dense)             (None, 128)               147584    \n",
            "                                                                 \n",
            " dense_4 (Dense)             (None, 64)                8256      \n",
            "                                                                 \n",
            " dense_5 (Dense)             (None, 50)                3250      \n",
            "                                                                 \n",
            "=================================================================\n",
            "Total params: 251,762\n",
            "Trainable params: 251,762\n",
            "Non-trainable params: 0\n",
            "_________________________________________________________________\n"
          ]
        }
      ]
    },
    {
      "cell_type": "code",
      "source": [
        "train_folder = \"Dataset/main/train\"\n",
        "val_folder = \"Dataset/main/val\"\n",
        "test_folder = \"Dataset/Test\""
      ],
      "metadata": {
        "id": "edzAI9fn7mfV"
      },
      "execution_count": 12,
      "outputs": []
    },
    {
      "cell_type": "code",
      "source": [
        "from keras.preprocessing.image import ImageDataGenerator\n",
        "from PIL import Image"
      ],
      "metadata": {
        "id": "AtQMWTgL71l4"
      },
      "execution_count": 7,
      "outputs": []
    },
    {
      "cell_type": "code",
      "source": [
        "Image.LOAD_TRUNCATED_IMAGES = True\n",
        "\n",
        "\n",
        "train_datagen = ImageDataGenerator(shear_range = .2, rotation_range = 25)\n",
        "val_datagen = ImageDataGenerator()\n",
        "test_datagen = ImageDataGenerator()\n",
        "\n",
        "train_set = train_datagen.flow_from_directory(train_folder, target_size = (28, 28), \n",
        "                                                 batch_size = 32, class_mode = 'categorical',color_mode=\"grayscale\")\n",
        "val_set = val_datagen.flow_from_directory(val_folder, target_size = (28, 28), \n",
        "                                                 batch_size = 32, class_mode = 'categorical',color_mode=\"grayscale\")\n",
        "test_set = test_datagen.flow_from_directory(test_folder, target_size = (28, 28), \n",
        "                                                 batch_size = 32, class_mode = 'categorical',color_mode=\"grayscale\")"
      ],
      "metadata": {
        "colab": {
          "base_uri": "https://localhost:8080/"
        },
        "id": "5Z2jApCm79sX",
        "outputId": "748b4763-04ef-4677-9ab2-9245ab9f75c3"
      },
      "execution_count": 13,
      "outputs": [
        {
          "output_type": "stream",
          "name": "stdout",
          "text": [
            "Found 10800 images belonging to 50 classes.\n",
            "Found 1200 images belonging to 50 classes.\n",
            "Found 3000 images belonging to 50 classes.\n"
          ]
        }
      ]
    },
    {
      "cell_type": "code",
      "source": [
        "classifier.fit(train_set, steps_per_epoch = len(train_set), epochs = 10,\n",
        "                        validation_data = val_set, validation_steps = len(val_set))"
      ],
      "metadata": {
        "colab": {
          "base_uri": "https://localhost:8080/"
        },
        "id": "Q-gw3Z_y8GWN",
        "outputId": "e7783e1d-db3e-49f6-8a96-2202da730de3"
      },
      "execution_count": 16,
      "outputs": [
        {
          "output_type": "stream",
          "name": "stdout",
          "text": [
            "Epoch 1/10\n",
            "338/338 [==============================] - 8s 22ms/step - loss: 0.1553 - accuracy: 0.9514 - val_loss: 0.4156 - val_accuracy: 0.9208\n",
            "Epoch 2/10\n",
            "338/338 [==============================] - 8s 22ms/step - loss: 0.1555 - accuracy: 0.9530 - val_loss: 0.4460 - val_accuracy: 0.9117\n",
            "Epoch 3/10\n",
            "338/338 [==============================] - 8s 23ms/step - loss: 0.1502 - accuracy: 0.9543 - val_loss: 0.4591 - val_accuracy: 0.9133\n",
            "Epoch 4/10\n",
            "338/338 [==============================] - 8s 22ms/step - loss: 0.1443 - accuracy: 0.9543 - val_loss: 0.4638 - val_accuracy: 0.9283\n",
            "Epoch 5/10\n",
            "338/338 [==============================] - 8s 22ms/step - loss: 0.1599 - accuracy: 0.9504 - val_loss: 0.4260 - val_accuracy: 0.9275\n",
            "Epoch 6/10\n",
            "338/338 [==============================] - 8s 23ms/step - loss: 0.1312 - accuracy: 0.9594 - val_loss: 0.4646 - val_accuracy: 0.9217\n",
            "Epoch 7/10\n",
            "338/338 [==============================] - 9s 26ms/step - loss: 0.1366 - accuracy: 0.9592 - val_loss: 0.4663 - val_accuracy: 0.9133\n",
            "Epoch 8/10\n",
            "338/338 [==============================] - 8s 23ms/step - loss: 0.1379 - accuracy: 0.9569 - val_loss: 0.4219 - val_accuracy: 0.9183\n",
            "Epoch 9/10\n",
            "338/338 [==============================] - 8s 23ms/step - loss: 0.1339 - accuracy: 0.9587 - val_loss: 0.4588 - val_accuracy: 0.9192\n",
            "Epoch 10/10\n",
            "338/338 [==============================] - 8s 22ms/step - loss: 0.1178 - accuracy: 0.9615 - val_loss: 0.3940 - val_accuracy: 0.9192\n"
          ]
        },
        {
          "output_type": "execute_result",
          "data": {
            "text/plain": [
              "<keras.callbacks.History at 0x7f78fab97250>"
            ]
          },
          "metadata": {},
          "execution_count": 16
        }
      ]
    },
    {
      "cell_type": "code",
      "source": [
        "classifier.evaluate(test_set)"
      ],
      "metadata": {
        "colab": {
          "base_uri": "https://localhost:8080/"
        },
        "id": "QIYbgd7D8sL-",
        "outputId": "da3f385d-a0d3-4f1d-b793-fc2e4b8d9c8c"
      },
      "execution_count": 17,
      "outputs": [
        {
          "output_type": "stream",
          "name": "stdout",
          "text": [
            "94/94 [==============================] - 2s 19ms/step - loss: 0.4612 - accuracy: 0.9220\n"
          ]
        },
        {
          "output_type": "execute_result",
          "data": {
            "text/plain": [
              "[0.4612477123737335, 0.921999990940094]"
            ]
          },
          "metadata": {},
          "execution_count": 17
        }
      ]
    },
    {
      "cell_type": "code",
      "source": [],
      "metadata": {
        "id": "p18sR7Xj-4l9"
      },
      "execution_count": null,
      "outputs": []
    }
  ]
}